{
  "cells": [
    {
      "cell_type": "markdown",
      "metadata": {
        "id": "DArjlnq4iX1T"
      },
      "source": [
        "Case Study Seven: \n",
        "\n",
        "By: Allen Hoskins & Brittany Lewandowski"
      ]
    },
    {
      "cell_type": "code",
      "execution_count": 2,
      "metadata": {
        "id": "wG9Ybv4AwW2P"
      },
      "outputs": [],
      "source": [
        "#Importing in required libraries:\n",
        "\n",
        "import pandas as pd\n",
        "import numpy as np\n"
      ]
    },
    {
      "cell_type": "code",
      "execution_count": 3,
      "metadata": {
        "colab": {
          "base_uri": "https://localhost:8080/",
          "height": 488
        },
        "id": "UwdmLM7WwSxL",
        "outputId": "0b39aff4-bb8e-44cd-9626-e1564df51a48"
      },
      "outputs": [],
      "source": [
        "#Converting our final_project csv to a data frame and decoding it using a method of utf-8:\n",
        "df = pd.read_pickle(r'/Users/allen/Desktop/MSDS/QTW/large datasets/cs7/data_sets/cs7.pkl.gzip',compression='gzip')"
      ]
    },
    {
      "cell_type": "code",
      "execution_count": 4,
      "metadata": {
        "colab": {
          "base_uri": "https://localhost:8080/"
        },
        "id": "3YnD2TANxn0Z",
        "outputId": "af519be4-d17f-43c3-d383-e768393faea4"
      },
      "outputs": [
        {
          "name": "stdout",
          "output_type": "stream",
          "text": [
            "<class 'pandas.core.frame.DataFrame'>\n",
            "RangeIndex: 160000 entries, 0 to 159999\n",
            "Data columns (total 51 columns):\n",
            " #   Column  Non-Null Count   Dtype  \n",
            "---  ------  --------------   -----  \n",
            " 0   x0      159974 non-null  float64\n",
            " 1   x1      159975 non-null  float64\n",
            " 2   x2      159962 non-null  float64\n",
            " 3   x3      159963 non-null  float64\n",
            " 4   x4      159974 non-null  float64\n",
            " 5   x5      159963 non-null  float64\n",
            " 6   x6      159974 non-null  float64\n",
            " 7   x7      159973 non-null  float64\n",
            " 8   x8      159979 non-null  float64\n",
            " 9   x9      159970 non-null  float64\n",
            " 10  x10     159957 non-null  float64\n",
            " 11  x11     159970 non-null  float64\n",
            " 12  x12     159964 non-null  float64\n",
            " 13  x13     159969 non-null  float64\n",
            " 14  x14     159966 non-null  float64\n",
            " 15  x15     159965 non-null  float64\n",
            " 16  x16     159974 non-null  float64\n",
            " 17  x17     159973 non-null  float64\n",
            " 18  x18     159960 non-null  float64\n",
            " 19  x19     159965 non-null  float64\n",
            " 20  x20     159962 non-null  float64\n",
            " 21  x21     159971 non-null  float64\n",
            " 22  x22     159973 non-null  float64\n",
            " 23  x23     159953 non-null  float64\n",
            " 24  x24     159972 non-null  object \n",
            " 25  x25     159978 non-null  float64\n",
            " 26  x26     159964 non-null  float64\n",
            " 27  x27     159970 non-null  float64\n",
            " 28  x28     159965 non-null  float64\n",
            " 29  x29     159970 non-null  object \n",
            " 30  x30     159970 non-null  object \n",
            " 31  x31     159961 non-null  float64\n",
            " 32  x32     159969 non-null  object \n",
            " 33  x33     159959 non-null  float64\n",
            " 34  x34     159959 non-null  float64\n",
            " 35  x35     159970 non-null  float64\n",
            " 36  x36     159973 non-null  float64\n",
            " 37  x37     159977 non-null  object \n",
            " 38  x38     159969 non-null  float64\n",
            " 39  x39     159977 non-null  float64\n",
            " 40  x40     159964 non-null  float64\n",
            " 41  x41     159960 non-null  float64\n",
            " 42  x42     159974 non-null  float64\n",
            " 43  x43     159963 non-null  float64\n",
            " 44  x44     159960 non-null  float64\n",
            " 45  x45     159971 non-null  float64\n",
            " 46  x46     159969 non-null  float64\n",
            " 47  x47     159963 non-null  float64\n",
            " 48  x48     159968 non-null  float64\n",
            " 49  x49     159968 non-null  float64\n",
            " 50  y       160000 non-null  int64  \n",
            "dtypes: float64(45), int64(1), object(5)\n",
            "memory usage: 62.3+ MB\n"
          ]
        }
      ],
      "source": [
        "df.info()"
      ]
    },
    {
      "cell_type": "code",
      "execution_count": 5,
      "metadata": {
        "colab": {
          "base_uri": "https://localhost:8080/"
        },
        "id": "FDs5s1tax9Bs",
        "outputId": "d90d645e-f57c-47bc-e934-1a3a827c9349"
      },
      "outputs": [
        {
          "data": {
            "text/plain": [
              "x0     26\n",
              "x1     25\n",
              "x2     38\n",
              "x3     37\n",
              "x4     26\n",
              "x5     37\n",
              "x6     26\n",
              "x7     27\n",
              "x8     21\n",
              "x9     30\n",
              "x10    43\n",
              "x11    30\n",
              "x12    36\n",
              "x13    31\n",
              "x14    34\n",
              "x15    35\n",
              "x16    26\n",
              "x17    27\n",
              "x18    40\n",
              "x19    35\n",
              "x20    38\n",
              "x21    29\n",
              "x22    27\n",
              "x23    47\n",
              "x24    28\n",
              "x25    22\n",
              "x26    36\n",
              "x27    30\n",
              "x28    35\n",
              "x29    30\n",
              "x30    30\n",
              "x31    39\n",
              "x32    31\n",
              "x33    41\n",
              "x34    41\n",
              "x35    30\n",
              "x36    27\n",
              "x37    23\n",
              "x38    31\n",
              "x39    23\n",
              "x40    36\n",
              "x41    40\n",
              "x42    26\n",
              "x43    37\n",
              "x44    40\n",
              "x45    29\n",
              "x46    31\n",
              "x47    37\n",
              "x48    32\n",
              "x49    32\n",
              "y       0\n",
              "dtype: int64"
            ]
          },
          "execution_count": 5,
          "metadata": {},
          "output_type": "execute_result"
        }
      ],
      "source": [
        "#Viewing missing values in our data frame:\n",
        "\n",
        "df.isna().sum()"
      ]
    },
    {
      "cell_type": "code",
      "execution_count": null,
      "metadata": {},
      "outputs": [],
      "source": []
    }
  ],
  "metadata": {
    "colab": {
      "collapsed_sections": [],
      "provenance": []
    },
    "kernelspec": {
      "display_name": "Python 3.9.13 ('QTW')",
      "language": "python",
      "name": "python3"
    },
    "language_info": {
      "codemirror_mode": {
        "name": "ipython",
        "version": 3
      },
      "file_extension": ".py",
      "mimetype": "text/x-python",
      "name": "python",
      "nbconvert_exporter": "python",
      "pygments_lexer": "ipython3",
      "version": "3.9.13"
    },
    "vscode": {
      "interpreter": {
        "hash": "64a98b05f8fc9eecf2bb5338f68e06ef5a87c8de5d8181b9d94599cc0446591d"
      }
    }
  },
  "nbformat": 4,
  "nbformat_minor": 0
}
