{
  "cells": [
    {
      "cell_type": "markdown",
      "metadata": {
        "id": "DArjlnq4iX1T"
      },
      "source": [
        "Case Study Seven: \n",
        "\n",
        "By: Allen Hoskins & Brittany Lewandowski"
      ]
    },
    {
      "cell_type": "code",
      "execution_count": 1,
      "metadata": {
        "id": "wG9Ybv4AwW2P"
      },
      "outputs": [],
      "source": [
        "#Importing in required libraries:\n",
        "\n",
        "import pandas as pd\n",
        "import numpy as np"
      ]
    },
    {
      "cell_type": "code",
      "execution_count": 2,
      "metadata": {
        "colab": {
          "base_uri": "https://localhost:8080/",
          "height": 488
        },
        "id": "UwdmLM7WwSxL",
        "outputId": "0b39aff4-bb8e-44cd-9626-e1564df51a48"
      },
      "outputs": [],
      "source": [
        "#Converting our final_project csv to a data frame and decoding it using a method of utf-8:\n",
        "df = pd.read_pickle(r'/Users/allen/Desktop/MSDS/QTW/large datasets/cs7/data_sets/cs7.pkl.gzip',compression='gzip')"
      ]
    },
    {
      "cell_type": "code",
      "execution_count": 3,
      "metadata": {},
      "outputs": [],
      "source": [
        "pd.set_option('display.max_columns',None)"
      ]
    },
    {
      "cell_type": "code",
      "execution_count": 4,
      "metadata": {},
      "outputs": [
        {
          "data": {
            "text/html": [
              "<div>\n",
              "<style scoped>\n",
              "    .dataframe tbody tr th:only-of-type {\n",
              "        vertical-align: middle;\n",
              "    }\n",
              "\n",
              "    .dataframe tbody tr th {\n",
              "        vertical-align: top;\n",
              "    }\n",
              "\n",
              "    .dataframe thead th {\n",
              "        text-align: right;\n",
              "    }\n",
              "</style>\n",
              "<table border=\"1\" class=\"dataframe\">\n",
              "  <thead>\n",
              "    <tr style=\"text-align: right;\">\n",
              "      <th></th>\n",
              "      <th>x0</th>\n",
              "      <th>x1</th>\n",
              "      <th>x2</th>\n",
              "      <th>x3</th>\n",
              "      <th>x4</th>\n",
              "      <th>x5</th>\n",
              "      <th>x6</th>\n",
              "      <th>x7</th>\n",
              "      <th>x8</th>\n",
              "      <th>x9</th>\n",
              "      <th>x10</th>\n",
              "      <th>x11</th>\n",
              "      <th>x12</th>\n",
              "      <th>x13</th>\n",
              "      <th>x14</th>\n",
              "      <th>x15</th>\n",
              "      <th>x16</th>\n",
              "      <th>x17</th>\n",
              "      <th>x18</th>\n",
              "      <th>x19</th>\n",
              "      <th>x20</th>\n",
              "      <th>x21</th>\n",
              "      <th>x22</th>\n",
              "      <th>x23</th>\n",
              "      <th>x24</th>\n",
              "      <th>x25</th>\n",
              "      <th>x26</th>\n",
              "      <th>x27</th>\n",
              "      <th>x28</th>\n",
              "      <th>x29</th>\n",
              "      <th>x30</th>\n",
              "      <th>x31</th>\n",
              "      <th>x32</th>\n",
              "      <th>x33</th>\n",
              "      <th>x34</th>\n",
              "      <th>x35</th>\n",
              "      <th>x36</th>\n",
              "      <th>x37</th>\n",
              "      <th>x38</th>\n",
              "      <th>x39</th>\n",
              "      <th>x40</th>\n",
              "      <th>x41</th>\n",
              "      <th>x42</th>\n",
              "      <th>x43</th>\n",
              "      <th>x44</th>\n",
              "      <th>x45</th>\n",
              "      <th>x46</th>\n",
              "      <th>x47</th>\n",
              "      <th>x48</th>\n",
              "      <th>x49</th>\n",
              "      <th>y</th>\n",
              "    </tr>\n",
              "  </thead>\n",
              "  <tbody>\n",
              "    <tr>\n",
              "      <th>0</th>\n",
              "      <td>-0.166563</td>\n",
              "      <td>-3.961588</td>\n",
              "      <td>4.621113</td>\n",
              "      <td>2.481908</td>\n",
              "      <td>-1.800135</td>\n",
              "      <td>0.804684</td>\n",
              "      <td>6.718751</td>\n",
              "      <td>-14.789997</td>\n",
              "      <td>-1.040673</td>\n",
              "      <td>-4.204950</td>\n",
              "      <td>6.187465</td>\n",
              "      <td>13.251523</td>\n",
              "      <td>25.665413</td>\n",
              "      <td>-5.017267</td>\n",
              "      <td>10.503714</td>\n",
              "      <td>-2.517678</td>\n",
              "      <td>2.117910</td>\n",
              "      <td>5.865923</td>\n",
              "      <td>-6.666158</td>\n",
              "      <td>1.791497</td>\n",
              "      <td>-1.909114</td>\n",
              "      <td>-1.737940</td>\n",
              "      <td>-2.516715</td>\n",
              "      <td>3.553013</td>\n",
              "      <td>euorpe</td>\n",
              "      <td>-0.801340</td>\n",
              "      <td>1.142950</td>\n",
              "      <td>1.005131</td>\n",
              "      <td>-18.473784</td>\n",
              "      <td>July</td>\n",
              "      <td>tuesday</td>\n",
              "      <td>-3.851669</td>\n",
              "      <td>0.0%</td>\n",
              "      <td>-1.940031</td>\n",
              "      <td>-5.492063</td>\n",
              "      <td>0.627121</td>\n",
              "      <td>-0.873824</td>\n",
              "      <td>$1313.96</td>\n",
              "      <td>-1.353729</td>\n",
              "      <td>-5.186148</td>\n",
              "      <td>-10.612200</td>\n",
              "      <td>-1.497117</td>\n",
              "      <td>5.414063</td>\n",
              "      <td>-2.325655</td>\n",
              "      <td>1.674827</td>\n",
              "      <td>-0.264332</td>\n",
              "      <td>60.781427</td>\n",
              "      <td>-7.689696</td>\n",
              "      <td>0.151589</td>\n",
              "      <td>-8.040166</td>\n",
              "      <td>0</td>\n",
              "    </tr>\n",
              "    <tr>\n",
              "      <th>1</th>\n",
              "      <td>-0.149894</td>\n",
              "      <td>-0.585676</td>\n",
              "      <td>27.839856</td>\n",
              "      <td>4.152333</td>\n",
              "      <td>6.426802</td>\n",
              "      <td>-2.426943</td>\n",
              "      <td>40.477058</td>\n",
              "      <td>-6.725709</td>\n",
              "      <td>0.896421</td>\n",
              "      <td>0.330165</td>\n",
              "      <td>-11.708859</td>\n",
              "      <td>-2.352809</td>\n",
              "      <td>-25.014934</td>\n",
              "      <td>9.799608</td>\n",
              "      <td>-10.960705</td>\n",
              "      <td>1.504000</td>\n",
              "      <td>-2.397836</td>\n",
              "      <td>-9.301839</td>\n",
              "      <td>-1.999413</td>\n",
              "      <td>5.045258</td>\n",
              "      <td>-5.809984</td>\n",
              "      <td>10.814319</td>\n",
              "      <td>-0.478112</td>\n",
              "      <td>10.590601</td>\n",
              "      <td>asia</td>\n",
              "      <td>0.818792</td>\n",
              "      <td>-0.642987</td>\n",
              "      <td>0.751086</td>\n",
              "      <td>3.749377</td>\n",
              "      <td>Aug</td>\n",
              "      <td>wednesday</td>\n",
              "      <td>1.391594</td>\n",
              "      <td>-0.02%</td>\n",
              "      <td>2.211462</td>\n",
              "      <td>-4.460591</td>\n",
              "      <td>1.035461</td>\n",
              "      <td>0.228270</td>\n",
              "      <td>$1962.78</td>\n",
              "      <td>32.816804</td>\n",
              "      <td>-5.150012</td>\n",
              "      <td>2.147427</td>\n",
              "      <td>36.292790</td>\n",
              "      <td>4.490915</td>\n",
              "      <td>0.762561</td>\n",
              "      <td>6.526662</td>\n",
              "      <td>1.007927</td>\n",
              "      <td>15.805696</td>\n",
              "      <td>-4.896678</td>\n",
              "      <td>-0.320283</td>\n",
              "      <td>16.719974</td>\n",
              "      <td>0</td>\n",
              "    </tr>\n",
              "    <tr>\n",
              "      <th>2</th>\n",
              "      <td>-0.321707</td>\n",
              "      <td>-1.429819</td>\n",
              "      <td>12.251561</td>\n",
              "      <td>6.586874</td>\n",
              "      <td>-5.304647</td>\n",
              "      <td>-11.311090</td>\n",
              "      <td>17.812850</td>\n",
              "      <td>11.060572</td>\n",
              "      <td>5.325880</td>\n",
              "      <td>-2.632984</td>\n",
              "      <td>1.572647</td>\n",
              "      <td>-4.170771</td>\n",
              "      <td>12.078602</td>\n",
              "      <td>-5.158498</td>\n",
              "      <td>7.302780</td>\n",
              "      <td>-2.192431</td>\n",
              "      <td>-4.065428</td>\n",
              "      <td>-7.675055</td>\n",
              "      <td>4.041629</td>\n",
              "      <td>-6.633628</td>\n",
              "      <td>1.700321</td>\n",
              "      <td>-2.419221</td>\n",
              "      <td>2.467521</td>\n",
              "      <td>-5.270615</td>\n",
              "      <td>asia</td>\n",
              "      <td>-0.718315</td>\n",
              "      <td>-0.566757</td>\n",
              "      <td>4.171088</td>\n",
              "      <td>11.522448</td>\n",
              "      <td>July</td>\n",
              "      <td>wednesday</td>\n",
              "      <td>-3.262082</td>\n",
              "      <td>-0.01%</td>\n",
              "      <td>0.419607</td>\n",
              "      <td>-3.804056</td>\n",
              "      <td>-0.763357</td>\n",
              "      <td>-1.612561</td>\n",
              "      <td>$430.47</td>\n",
              "      <td>-0.333199</td>\n",
              "      <td>8.728585</td>\n",
              "      <td>-0.863137</td>\n",
              "      <td>-0.368491</td>\n",
              "      <td>9.088864</td>\n",
              "      <td>-0.689886</td>\n",
              "      <td>-2.731118</td>\n",
              "      <td>0.754200</td>\n",
              "      <td>30.856417</td>\n",
              "      <td>-7.428573</td>\n",
              "      <td>-2.090804</td>\n",
              "      <td>-7.869421</td>\n",
              "      <td>0</td>\n",
              "    </tr>\n",
              "    <tr>\n",
              "      <th>3</th>\n",
              "      <td>-0.245594</td>\n",
              "      <td>5.076677</td>\n",
              "      <td>-24.149632</td>\n",
              "      <td>3.637307</td>\n",
              "      <td>6.505811</td>\n",
              "      <td>2.290224</td>\n",
              "      <td>-35.111751</td>\n",
              "      <td>-18.913592</td>\n",
              "      <td>-0.337041</td>\n",
              "      <td>-5.568076</td>\n",
              "      <td>-2.000255</td>\n",
              "      <td>-19.286668</td>\n",
              "      <td>10.995330</td>\n",
              "      <td>-5.914378</td>\n",
              "      <td>2.511400</td>\n",
              "      <td>1.292362</td>\n",
              "      <td>-2.496882</td>\n",
              "      <td>-15.722954</td>\n",
              "      <td>-2.735382</td>\n",
              "      <td>1.117536</td>\n",
              "      <td>1.923670</td>\n",
              "      <td>-14.179167</td>\n",
              "      <td>1.470625</td>\n",
              "      <td>-11.484431</td>\n",
              "      <td>asia</td>\n",
              "      <td>-0.052430</td>\n",
              "      <td>-0.558582</td>\n",
              "      <td>9.215569</td>\n",
              "      <td>30.595226</td>\n",
              "      <td>July</td>\n",
              "      <td>wednesday</td>\n",
              "      <td>-2.285241</td>\n",
              "      <td>0.01%</td>\n",
              "      <td>-3.442715</td>\n",
              "      <td>4.420160</td>\n",
              "      <td>1.164532</td>\n",
              "      <td>3.033455</td>\n",
              "      <td>$-2366.29</td>\n",
              "      <td>14.188669</td>\n",
              "      <td>-6.385060</td>\n",
              "      <td>12.084421</td>\n",
              "      <td>15.691546</td>\n",
              "      <td>-7.467775</td>\n",
              "      <td>2.940789</td>\n",
              "      <td>-6.424112</td>\n",
              "      <td>0.419776</td>\n",
              "      <td>-72.424569</td>\n",
              "      <td>5.361375</td>\n",
              "      <td>1.806070</td>\n",
              "      <td>-7.670847</td>\n",
              "      <td>0</td>\n",
              "    </tr>\n",
              "    <tr>\n",
              "      <th>4</th>\n",
              "      <td>-0.273366</td>\n",
              "      <td>0.306326</td>\n",
              "      <td>-11.352593</td>\n",
              "      <td>1.676758</td>\n",
              "      <td>2.928441</td>\n",
              "      <td>-0.616824</td>\n",
              "      <td>-16.505817</td>\n",
              "      <td>27.532281</td>\n",
              "      <td>1.199715</td>\n",
              "      <td>-4.309105</td>\n",
              "      <td>6.667530</td>\n",
              "      <td>1.965913</td>\n",
              "      <td>-28.106348</td>\n",
              "      <td>-1.258950</td>\n",
              "      <td>5.759941</td>\n",
              "      <td>0.472584</td>\n",
              "      <td>-1.150097</td>\n",
              "      <td>-14.118709</td>\n",
              "      <td>4.527964</td>\n",
              "      <td>-1.284372</td>\n",
              "      <td>-9.026317</td>\n",
              "      <td>-7.039818</td>\n",
              "      <td>-1.978748</td>\n",
              "      <td>-15.998166</td>\n",
              "      <td>asia</td>\n",
              "      <td>-0.223449</td>\n",
              "      <td>0.350781</td>\n",
              "      <td>1.811182</td>\n",
              "      <td>-4.094084</td>\n",
              "      <td>July</td>\n",
              "      <td>tuesday</td>\n",
              "      <td>0.921047</td>\n",
              "      <td>0.01%</td>\n",
              "      <td>-0.431640</td>\n",
              "      <td>12.165494</td>\n",
              "      <td>-0.167726</td>\n",
              "      <td>-0.341604</td>\n",
              "      <td>$-620.66</td>\n",
              "      <td>-12.578926</td>\n",
              "      <td>1.133798</td>\n",
              "      <td>30.004727</td>\n",
              "      <td>-13.911297</td>\n",
              "      <td>-5.229937</td>\n",
              "      <td>1.783928</td>\n",
              "      <td>3.957801</td>\n",
              "      <td>-0.096988</td>\n",
              "      <td>-14.085435</td>\n",
              "      <td>-0.208351</td>\n",
              "      <td>-0.894942</td>\n",
              "      <td>15.724742</td>\n",
              "      <td>1</td>\n",
              "    </tr>\n",
              "  </tbody>\n",
              "</table>\n",
              "</div>"
            ],
            "text/plain": [
              "         x0        x1         x2        x3        x4         x5         x6  \\\n",
              "0 -0.166563 -3.961588   4.621113  2.481908 -1.800135   0.804684   6.718751   \n",
              "1 -0.149894 -0.585676  27.839856  4.152333  6.426802  -2.426943  40.477058   \n",
              "2 -0.321707 -1.429819  12.251561  6.586874 -5.304647 -11.311090  17.812850   \n",
              "3 -0.245594  5.076677 -24.149632  3.637307  6.505811   2.290224 -35.111751   \n",
              "4 -0.273366  0.306326 -11.352593  1.676758  2.928441  -0.616824 -16.505817   \n",
              "\n",
              "          x7        x8        x9        x10        x11        x12       x13  \\\n",
              "0 -14.789997 -1.040673 -4.204950   6.187465  13.251523  25.665413 -5.017267   \n",
              "1  -6.725709  0.896421  0.330165 -11.708859  -2.352809 -25.014934  9.799608   \n",
              "2  11.060572  5.325880 -2.632984   1.572647  -4.170771  12.078602 -5.158498   \n",
              "3 -18.913592 -0.337041 -5.568076  -2.000255 -19.286668  10.995330 -5.914378   \n",
              "4  27.532281  1.199715 -4.309105   6.667530   1.965913 -28.106348 -1.258950   \n",
              "\n",
              "         x14       x15       x16        x17       x18       x19       x20  \\\n",
              "0  10.503714 -2.517678  2.117910   5.865923 -6.666158  1.791497 -1.909114   \n",
              "1 -10.960705  1.504000 -2.397836  -9.301839 -1.999413  5.045258 -5.809984   \n",
              "2   7.302780 -2.192431 -4.065428  -7.675055  4.041629 -6.633628  1.700321   \n",
              "3   2.511400  1.292362 -2.496882 -15.722954 -2.735382  1.117536  1.923670   \n",
              "4   5.759941  0.472584 -1.150097 -14.118709  4.527964 -1.284372 -9.026317   \n",
              "\n",
              "         x21       x22        x23     x24       x25       x26       x27  \\\n",
              "0  -1.737940 -2.516715   3.553013  euorpe -0.801340  1.142950  1.005131   \n",
              "1  10.814319 -0.478112  10.590601    asia  0.818792 -0.642987  0.751086   \n",
              "2  -2.419221  2.467521  -5.270615    asia -0.718315 -0.566757  4.171088   \n",
              "3 -14.179167  1.470625 -11.484431    asia -0.052430 -0.558582  9.215569   \n",
              "4  -7.039818 -1.978748 -15.998166    asia -0.223449  0.350781  1.811182   \n",
              "\n",
              "         x28   x29        x30       x31     x32       x33        x34  \\\n",
              "0 -18.473784  July    tuesday -3.851669    0.0% -1.940031  -5.492063   \n",
              "1   3.749377   Aug  wednesday  1.391594  -0.02%  2.211462  -4.460591   \n",
              "2  11.522448  July  wednesday -3.262082  -0.01%  0.419607  -3.804056   \n",
              "3  30.595226  July  wednesday -2.285241   0.01% -3.442715   4.420160   \n",
              "4  -4.094084  July    tuesday  0.921047   0.01% -0.431640  12.165494   \n",
              "\n",
              "        x35       x36        x37        x38       x39        x40        x41  \\\n",
              "0  0.627121 -0.873824   $1313.96  -1.353729 -5.186148 -10.612200  -1.497117   \n",
              "1  1.035461  0.228270   $1962.78  32.816804 -5.150012   2.147427  36.292790   \n",
              "2 -0.763357 -1.612561    $430.47  -0.333199  8.728585  -0.863137  -0.368491   \n",
              "3  1.164532  3.033455  $-2366.29  14.188669 -6.385060  12.084421  15.691546   \n",
              "4 -0.167726 -0.341604   $-620.66 -12.578926  1.133798  30.004727 -13.911297   \n",
              "\n",
              "        x42       x43       x44       x45        x46       x47       x48  \\\n",
              "0  5.414063 -2.325655  1.674827 -0.264332  60.781427 -7.689696  0.151589   \n",
              "1  4.490915  0.762561  6.526662  1.007927  15.805696 -4.896678 -0.320283   \n",
              "2  9.088864 -0.689886 -2.731118  0.754200  30.856417 -7.428573 -2.090804   \n",
              "3 -7.467775  2.940789 -6.424112  0.419776 -72.424569  5.361375  1.806070   \n",
              "4 -5.229937  1.783928  3.957801 -0.096988 -14.085435 -0.208351 -0.894942   \n",
              "\n",
              "         x49  y  \n",
              "0  -8.040166  0  \n",
              "1  16.719974  0  \n",
              "2  -7.869421  0  \n",
              "3  -7.670847  0  \n",
              "4  15.724742  1  "
            ]
          },
          "execution_count": 4,
          "metadata": {},
          "output_type": "execute_result"
        }
      ],
      "source": [
        "df.head()"
      ]
    },
    {
      "cell_type": "code",
      "execution_count": 5,
      "metadata": {},
      "outputs": [],
      "source": [
        "def parseFloat(str):\n",
        "    try:\n",
        "        return float(str)\n",
        "    except:\n",
        "        str = str.strip()\n",
        "        if str.endswith(\"%\"):\n",
        "            return float(str.strip(\"%\").strip()) / 100\n",
        "        raise Exception(\"Don't know how to parse %s\" % str)\n",
        "\n",
        "df['x32'] = df['x32'].apply(parseFloat)"
      ]
    },
    {
      "cell_type": "code",
      "execution_count": 6,
      "metadata": {},
      "outputs": [],
      "source": [
        "df['x37'] = df['x37'].apply(lambda x: x.replace('$', '').replace(',', '')\n",
        "                                if isinstance(x, str) else x).astype(float)"
      ]
    },
    {
      "cell_type": "code",
      "execution_count": 7,
      "metadata": {},
      "outputs": [
        {
          "name": "stdout",
          "output_type": "stream",
          "text": [
            "Column X24 Unique values:\n",
            " ['euorpe' 'asia' 'america' nan]\n",
            "\n",
            "Column X29 Unique values:\n",
            " ['July' 'Aug' 'Jun' 'May' 'sept.' 'Apr' 'Nov' 'Oct' nan 'Mar' 'Feb' 'Dev'\n",
            " 'January']\n",
            "\n",
            "Column X30 Unique values:\n",
            " ['tuesday' 'wednesday' 'thurday' 'monday' 'friday' nan]\n"
          ]
        }
      ],
      "source": [
        "print(f'Column X24 Unique values:\\n {df.x24.unique()}\\n')\n",
        "print(f'Column X29 Unique values:\\n {df.x29.unique()}\\n')\n",
        "print(f'Column X30 Unique values:\\n {df.x30.unique()}')"
      ]
    },
    {
      "cell_type": "code",
      "execution_count": 8,
      "metadata": {},
      "outputs": [],
      "source": [
        "for col in ['x24', 'x29','x30']:\n",
        "    df[col] = df[col].replace(np.nan, 'Unknown', regex=True)"
      ]
    },
    {
      "cell_type": "code",
      "execution_count": 9,
      "metadata": {},
      "outputs": [
        {
          "name": "stdout",
          "output_type": "stream",
          "text": [
            "Column X24 Unique values:\n",
            " ['euorpe' 'asia' 'america' 'Unknown']\n",
            "\n",
            "Column X29 Unique values:\n",
            " ['July' 'Aug' 'Jun' 'May' 'sept.' 'Apr' 'Nov' 'Oct' 'Unknown' 'Mar' 'Feb'\n",
            " 'Dev' 'January']\n",
            "\n",
            "Column X30 Unique values:\n",
            " ['tuesday' 'wednesday' 'thurday' 'monday' 'friday' 'Unknown']\n"
          ]
        }
      ],
      "source": [
        "print(f'Column X24 Unique values:\\n {df.x24.unique()}\\n')\n",
        "print(f'Column X29 Unique values:\\n {df.x29.unique()}\\n')\n",
        "print(f'Column X30 Unique values:\\n {df.x30.unique()}')"
      ]
    },
    {
      "cell_type": "code",
      "execution_count": 10,
      "metadata": {},
      "outputs": [],
      "source": [
        "#rename month column\n",
        "x29_map = {'July':'July', 'Aug':'August', 'Jun':'June', 'May':'May', 'sept.':'September',\n",
        "             'Apr':'April','Nov':'November', 'Oct':'October','Unknown':'Unknown',\n",
        "             'Mar':'March', 'Feb':'February','Dev':'December','January':'January'}\\\n",
        "\n",
        "df['x29'] = df['x29'].map(x29_map) "
      ]
    },
    {
      "cell_type": "code",
      "execution_count": 11,
      "metadata": {},
      "outputs": [],
      "source": [
        "df['impute_col'] = df['x24']+df['x29']+df['x30']"
      ]
    },
    {
      "cell_type": "code",
      "execution_count": 12,
      "metadata": {},
      "outputs": [],
      "source": [
        "for col in ['x24', 'x29','x30']:\n",
        "    df[col] = df[col].astype('category')"
      ]
    },
    {
      "cell_type": "code",
      "execution_count": 13,
      "metadata": {},
      "outputs": [],
      "source": [
        "#create copies of dataframes\n",
        "df_mean = df.copy()\n",
        "df_median = df.copy()\n",
        "df_mode = df.copy()\n",
        "df_drop = df.copy()"
      ]
    },
    {
      "cell_type": "code",
      "execution_count": 14,
      "metadata": {},
      "outputs": [],
      "source": [
        "col_list = list(df.columns)\n",
        "unwanted_num = {'x24', 'x29','x30','impute_col'}\n",
        " \n",
        "col_list = [ele for ele in col_list if ele not in unwanted_num]"
      ]
    },
    {
      "cell_type": "code",
      "execution_count": 15,
      "metadata": {},
      "outputs": [],
      "source": [
        "for col in col_list:\n",
        "    df_median[col]=df_median.groupby('impute_col')[col].apply(lambda x:x.fillna(x.median()))"
      ]
    },
    {
      "cell_type": "code",
      "execution_count": 16,
      "metadata": {},
      "outputs": [],
      "source": [
        "for col in col_list:\n",
        "    df_median[col] =  (df_median.groupby(['impute_col'],dropna=False)[col].apply(lambda x: x.fillna(x.median())))\n",
        "    df_mean[col] =  (df_mean.groupby(['impute_col'],dropna=False)[col].apply(lambda x: x.fillna(x.mean())))\n",
        "    df_mode[col] =  (df_mode.groupby(['impute_col'],dropna=False)[col].apply(lambda x: x.fillna(x.mode())))"
      ]
    },
    {
      "cell_type": "code",
      "execution_count": 17,
      "metadata": {},
      "outputs": [],
      "source": [
        "df_median = df_median.drop(columns=['impute_col'])\n",
        "df_mean = df_mean.drop(columns=['impute_col'])\n",
        "df_mode = df_mode.drop(columns=['impute_col'])\n",
        "df_drop = df_drop.dropna(inplace=True)"
      ]
    },
    {
      "cell_type": "markdown",
      "metadata": {},
      "source": [
        "***\n",
        "## Catboost"
      ]
    },
    {
      "cell_type": "code",
      "execution_count": 28,
      "metadata": {},
      "outputs": [],
      "source": [
        "from catboost import CatBoostClassifier\n",
        "from sklearn.model_selection import train_test_split\n",
        "import matplotlib.pyplot as plt\n",
        "import matplotlib"
      ]
    },
    {
      "cell_type": "code",
      "execution_count": 19,
      "metadata": {},
      "outputs": [],
      "source": [
        "df_cat = df_mean.copy()"
      ]
    },
    {
      "cell_type": "code",
      "execution_count": 22,
      "metadata": {},
      "outputs": [],
      "source": [
        "target_col = ['y']\n",
        "feature_cat_cols = df_cat.loc[:, ~df_cat.columns.isin(target_col)].columns\n",
        "X_cat = df_cat[feature_cat_cols] # Features\n",
        "y_cat = df_cat.y # Target variable"
      ]
    },
    {
      "cell_type": "code",
      "execution_count": 23,
      "metadata": {},
      "outputs": [],
      "source": [
        "X_cat_train,X_cat_test,y_cat_train,y_cat_test=train_test_split(X_cat,y_cat,test_size=0.20,random_state=0)"
      ]
    },
    {
      "cell_type": "code",
      "execution_count": 24,
      "metadata": {},
      "outputs": [
        {
          "name": "stdout",
          "output_type": "stream",
          "text": [
            "X_cat_delay_train shape:  (128000, 50) \n",
            "\n",
            "X_cat_delay_test shape:  (32000, 50) \n",
            "\n",
            "y_cat_delay_train shape:  (128000,) \n",
            "\n",
            "y_cat_delay_test shape:  (32000,)\n"
          ]
        }
      ],
      "source": [
        "print('X_cat_delay_train shape: ',X_cat_train.shape,'\\n')\n",
        "print('X_cat_delay_test shape: ',X_cat_test.shape,'\\n')\n",
        "print('y_cat_delay_train shape: ',y_cat_train.shape,'\\n')\n",
        "print('y_cat_delay_test shape: ',y_cat_test.shape)"
      ]
    },
    {
      "cell_type": "code",
      "execution_count": 25,
      "metadata": {},
      "outputs": [],
      "source": [
        "cat_feat= df_cat.select_dtypes(include=['category']).columns.tolist()"
      ]
    },
    {
      "cell_type": "code",
      "execution_count": 29,
      "metadata": {},
      "outputs": [
        {
          "data": {
            "application/vnd.jupyter.widget-view+json": {
              "model_id": "55c6af81f2dc40e2852a1e0afab3e3ab",
              "version_major": 2,
              "version_minor": 0
            },
            "text/plain": [
              "MetricVisualizer(layout=Layout(align_self='stretch', height='500px'))"
            ]
          },
          "metadata": {},
          "output_type": "display_data"
        },
        {
          "name": "stdout",
          "output_type": "stream",
          "text": [
            "0:\tlearn: 0.6095560\ttest: 0.6109429\tbest: 0.6109429 (0)\ttotal: 104ms\tremaining: 1m 44s\n",
            "200:\tlearn: 0.1437704\ttest: 0.1844660\tbest: 0.1843533 (198)\ttotal: 33.3s\tremaining: 2m 12s\n",
            "400:\tlearn: 0.0983508\ttest: 0.1739432\tbest: 0.1739164 (399)\ttotal: 1m 9s\tremaining: 1m 43s\n",
            "600:\tlearn: 0.0672651\ttest: 0.1672902\tbest: 0.1670404 (567)\ttotal: 1m 30s\tremaining: 59.8s\n",
            "800:\tlearn: 0.0468297\ttest: 0.1648550\tbest: 0.1647620 (793)\ttotal: 1m 42s\tremaining: 25.5s\n",
            "999:\tlearn: 0.0336936\ttest: 0.1656168\tbest: 0.1646552 (838)\ttotal: 1m 51s\tremaining: 0us\n",
            "\n",
            "bestTest = 0.1646551807\n",
            "bestIteration = 838\n",
            "\n",
            "Shrink model to first 839 iterations.\n",
            "CPU times: user 2min 59s, sys: 13.1 s, total: 3min 12s\n",
            "Wall time: 1min 51s\n"
          ]
        },
        {
          "data": {
            "text/plain": [
              "<catboost.core.CatBoostClassifier at 0x16628c0a0>"
            ]
          },
          "execution_count": 29,
          "metadata": {},
          "output_type": "execute_result"
        }
      ],
      "source": [
        "%%time\n",
        "#CatBoost for Is_delay\n",
        "#https://www.kaggle.com/code/mitribunskiy/tutorial-catboost-overview/notebook\n",
        "\n",
        "seed = 0\n",
        "params = {'loss_function':'Logloss', # objective function\n",
        "          'custom_metric':['AUC','Accuracy','F1'], # metrics\n",
        "          'verbose': 200, # output to stdout info about training process every 200 iterations\n",
        "          'random_seed': seed,\n",
        "          'learning_rate': .25,\n",
        "          'cat_features':cat_feat,\n",
        "          'grow_policy': 'Lossguide',\n",
        "          'thread_count': -1,\n",
        "          'early_stopping_rounds':200\n",
        "         }\n",
        "\n",
        "cbc_delay = CatBoostClassifier(**params)\n",
        "cbc_delay.fit(X_cat_train, y_cat_train, # data to train on (required parameters, unless we provide X as a pool object, will be shown below)\n",
        "          eval_set=(X_cat_test, y_cat_test), # data to validate on\n",
        "          use_best_model=True, # True if we don't want to save trees created after iteration with the best validation score\n",
        "          plot=True # True for visualization of the training process (it is not shown in a published kernel - try executing this code)\n",
        "         );"
      ]
    },
    {
      "cell_type": "code",
      "execution_count": 30,
      "metadata": {},
      "outputs": [
        {
          "data": {
            "image/svg+xml": "<?xml version=\"1.0\" encoding=\"UTF-8\" standalone=\"no\"?>\n<!DOCTYPE svg PUBLIC \"-//W3C//DTD SVG 1.1//EN\"\n \"http://www.w3.org/Graphics/SVG/1.1/DTD/svg11.dtd\">\n<!-- Generated by graphviz version 7.0.0 (20221023.0053)\n -->\n<!-- Pages: 1 -->\n<svg width=\"2341pt\" height=\"566pt\"\n viewBox=\"0.00 0.00 2341.00 566.00\" xmlns=\"http://www.w3.org/2000/svg\" xmlns:xlink=\"http://www.w3.org/1999/xlink\">\n<g id=\"graph0\" class=\"graph\" transform=\"scale(1 1) rotate(0) translate(4 562)\">\n<polygon fill=\"white\" stroke=\"none\" points=\"-4,4 -4,-562 2337,-562 2337,4 -4,4\"/>\n<!-- node_0 -->\n<g id=\"node1\" class=\"node\">\n<title>node_0</title>\n<ellipse fill=\"none\" stroke=\"black\" cx=\"1514\" cy=\"-540\" rx=\"73.39\" ry=\"18\"/>\n<text text-anchor=\"middle\" x=\"1514\" y=\"-536.3\" font-family=\"Times,serif\" font-size=\"14.00\">7, value&gt;25.6301</text>\n</g>\n<!-- node_1 -->\n<g id=\"node2\" class=\"node\">\n<title>node_1</title>\n<ellipse fill=\"none\" stroke=\"black\" cx=\"1233\" cy=\"-453\" rx=\"73.39\" ry=\"18\"/>\n<text text-anchor=\"middle\" x=\"1233\" y=\"-449.3\" font-family=\"Times,serif\" font-size=\"14.00\">7, value&gt;23.4323</text>\n</g>\n<!-- node_0&#45;&gt;node_1 -->\n<g id=\"edge39\" class=\"edge\">\n<title>node_0&#45;&gt;node_1</title>\n<path fill=\"none\" stroke=\"black\" d=\"M1469.16,-525.44C1420.12,-510.6 1341.47,-486.81 1288.56,-470.81\"/>\n<polygon fill=\"black\" stroke=\"black\" points=\"1289.71,-467.5 1279.13,-467.95 1287.68,-474.2 1289.71,-467.5\"/>\n<text text-anchor=\"middle\" x=\"1399.5\" y=\"-492.8\" font-family=\"Times,serif\" font-size=\"14.00\">No</text>\n</g>\n<!-- node_36 -->\n<g id=\"node41\" class=\"node\">\n<title>node_36</title>\n<ellipse fill=\"none\" stroke=\"black\" cx=\"1787\" cy=\"-453\" rx=\"80.69\" ry=\"18\"/>\n<text text-anchor=\"middle\" x=\"1787\" y=\"-449.3\" font-family=\"Times,serif\" font-size=\"14.00\">17, value&gt;&#45;16.3727</text>\n</g>\n<!-- node_0&#45;&gt;node_36 -->\n<g id=\"edge60\" class=\"edge\">\n<title>node_0&#45;&gt;node_36</title>\n<path fill=\"none\" stroke=\"black\" d=\"M1558.17,-525.25C1605.12,-510.63 1679.53,-487.46 1730.67,-471.54\"/>\n<polygon fill=\"black\" stroke=\"black\" points=\"1731.58,-474.92 1740.09,-468.61 1729.5,-468.24 1731.58,-474.92\"/>\n<text text-anchor=\"middle\" x=\"1677.5\" y=\"-492.8\" font-family=\"Times,serif\" font-size=\"14.00\">Yes</text>\n</g>\n<!-- node_2 -->\n<g id=\"node3\" class=\"node\">\n<title>node_2</title>\n<ellipse fill=\"none\" stroke=\"black\" cx=\"423\" cy=\"-366\" rx=\"77.19\" ry=\"18\"/>\n<text text-anchor=\"middle\" x=\"423\" y=\"-362.3\" font-family=\"Times,serif\" font-size=\"14.00\">28, value&gt;33.8024</text>\n</g>\n<!-- node_1&#45;&gt;node_2 -->\n<g id=\"edge15\" class=\"edge\">\n<title>node_1&#45;&gt;node_2</title>\n<path fill=\"none\" stroke=\"black\" d=\"M1166.37,-445.01C1018.54,-429.5 663.58,-392.25 503.6,-375.46\"/>\n<polygon fill=\"black\" stroke=\"black\" points=\"504.24,-372.01 493.93,-374.44 503.51,-378.97 504.24,-372.01\"/>\n<text text-anchor=\"middle\" x=\"885.5\" y=\"-405.8\" font-family=\"Times,serif\" font-size=\"14.00\">No</text>\n</g>\n<!-- node_15 -->\n<g id=\"node18\" class=\"node\">\n<title>node_15</title>\n<ellipse fill=\"none\" stroke=\"black\" cx=\"1233\" cy=\"-366\" rx=\"77.19\" ry=\"18\"/>\n<text text-anchor=\"middle\" x=\"1233\" y=\"-362.3\" font-family=\"Times,serif\" font-size=\"14.00\">36, value&gt;3.17735</text>\n</g>\n<!-- node_1&#45;&gt;node_15 -->\n<g id=\"edge38\" class=\"edge\">\n<title>node_1&#45;&gt;node_15</title>\n<path fill=\"none\" stroke=\"black\" d=\"M1233,-434.8C1233,-423.58 1233,-408.67 1233,-395.69\"/>\n<polygon fill=\"black\" stroke=\"black\" points=\"1236.5,-395.98 1233,-385.98 1229.5,-395.98 1236.5,-395.98\"/>\n<text text-anchor=\"middle\" x=\"1243.5\" y=\"-405.8\" font-family=\"Times,serif\" font-size=\"14.00\">Yes</text>\n</g>\n<!-- leaf_0 -->\n<g id=\"node4\" class=\"node\">\n<title>leaf_0</title>\n<polygon fill=\"none\" stroke=\"red\" points=\"324,-297 244,-297 244,-261 324,-261 324,-297\"/>\n<text text-anchor=\"middle\" x=\"284\" y=\"-275.3\" font-family=\"Times,serif\" font-size=\"14.00\">val = 0.001</text>\n</g>\n<!-- node_2&#45;&gt;leaf_0 -->\n<g id=\"edge1\" class=\"edge\">\n<title>node_2&#45;&gt;leaf_0</title>\n<path fill=\"none\" stroke=\"black\" d=\"M396.53,-348.81C375.44,-335.92 345.63,-317.69 321.99,-303.23\"/>\n<polygon fill=\"black\" stroke=\"black\" points=\"323.93,-300.32 313.58,-298.09 320.28,-306.29 323.93,-300.32\"/>\n<text text-anchor=\"middle\" x=\"370.5\" y=\"-318.8\" font-family=\"Times,serif\" font-size=\"14.00\">No</text>\n</g>\n<!-- node_3 -->\n<g id=\"node5\" class=\"node\">\n<title>node_3</title>\n<ellipse fill=\"none\" stroke=\"black\" cx=\"423\" cy=\"-279\" rx=\"80.69\" ry=\"18\"/>\n<text text-anchor=\"middle\" x=\"423\" y=\"-275.3\" font-family=\"Times,serif\" font-size=\"14.00\">12, value&gt;&#45;16.4044</text>\n</g>\n<!-- node_2&#45;&gt;node_3 -->\n<g id=\"edge14\" class=\"edge\">\n<title>node_2&#45;&gt;node_3</title>\n<path fill=\"none\" stroke=\"black\" d=\"M423,-347.8C423,-336.58 423,-321.67 423,-308.69\"/>\n<polygon fill=\"black\" stroke=\"black\" points=\"426.5,-308.98 423,-298.98 419.5,-308.98 426.5,-308.98\"/>\n<text text-anchor=\"middle\" x=\"433.5\" y=\"-318.8\" font-family=\"Times,serif\" font-size=\"14.00\">Yes</text>\n</g>\n<!-- node_4 -->\n<g id=\"node6\" class=\"node\">\n<title>node_4</title>\n<ellipse fill=\"none\" stroke=\"black\" cx=\"175\" cy=\"-192\" rx=\"76.09\" ry=\"18\"/>\n<text text-anchor=\"middle\" x=\"175\" y=\"-188.3\" font-family=\"Times,serif\" font-size=\"14.00\">1, value&gt;&#45;5.51146</text>\n</g>\n<!-- node_3&#45;&gt;node_4 -->\n<g id=\"edge6\" class=\"edge\">\n<title>node_3&#45;&gt;node_4</title>\n<path fill=\"none\" stroke=\"black\" d=\"M380.37,-263.39C338.15,-248.92 273.39,-226.72 227.91,-211.13\"/>\n<polygon fill=\"black\" stroke=\"black\" points=\"229.1,-207.84 218.51,-207.91 226.83,-214.47 229.1,-207.84\"/>\n<text text-anchor=\"middle\" x=\"322.5\" y=\"-231.8\" font-family=\"Times,serif\" font-size=\"14.00\">No</text>\n</g>\n<!-- node_8 -->\n<g id=\"node11\" class=\"node\">\n<title>node_8</title>\n<ellipse fill=\"none\" stroke=\"black\" cx=\"423\" cy=\"-192\" rx=\"77.19\" ry=\"18\"/>\n<text text-anchor=\"middle\" x=\"423\" y=\"-188.3\" font-family=\"Times,serif\" font-size=\"14.00\">48, value&gt;3.97849</text>\n</g>\n<!-- node_3&#45;&gt;node_8 -->\n<g id=\"edge13\" class=\"edge\">\n<title>node_3&#45;&gt;node_8</title>\n<path fill=\"none\" stroke=\"black\" d=\"M423,-260.8C423,-249.58 423,-234.67 423,-221.69\"/>\n<polygon fill=\"black\" stroke=\"black\" points=\"426.5,-221.98 423,-211.98 419.5,-221.98 426.5,-221.98\"/>\n<text text-anchor=\"middle\" x=\"433.5\" y=\"-231.8\" font-family=\"Times,serif\" font-size=\"14.00\">Yes</text>\n</g>\n<!-- leaf_1 -->\n<g id=\"node7\" class=\"node\">\n<title>leaf_1</title>\n<polygon fill=\"none\" stroke=\"red\" points=\"84,-123 0,-123 0,-87 84,-87 84,-123\"/>\n<text text-anchor=\"middle\" x=\"42\" y=\"-101.3\" font-family=\"Times,serif\" font-size=\"14.00\">val = &#45;0.728</text>\n</g>\n<!-- node_4&#45;&gt;leaf_1 -->\n<g id=\"edge2\" class=\"edge\">\n<title>node_4&#45;&gt;leaf_1</title>\n<path fill=\"none\" stroke=\"black\" d=\"M149.36,-174.61C129.24,-161.75 100.97,-143.69 78.49,-129.32\"/>\n<polygon fill=\"black\" stroke=\"black\" points=\"80.52,-126.46 70.21,-124.03 76.75,-132.36 80.52,-126.46\"/>\n<text text-anchor=\"middle\" x=\"125.5\" y=\"-144.8\" font-family=\"Times,serif\" font-size=\"14.00\">No</text>\n</g>\n<!-- node_5 -->\n<g id=\"node8\" class=\"node\">\n<title>node_5</title>\n<ellipse fill=\"none\" stroke=\"black\" cx=\"175\" cy=\"-105\" rx=\"73.39\" ry=\"18\"/>\n<text text-anchor=\"middle\" x=\"175\" y=\"-101.3\" font-family=\"Times,serif\" font-size=\"14.00\">8, value&gt;7.60446</text>\n</g>\n<!-- node_4&#45;&gt;node_5 -->\n<g id=\"edge5\" class=\"edge\">\n<title>node_4&#45;&gt;node_5</title>\n<path fill=\"none\" stroke=\"black\" d=\"M175,-173.8C175,-162.58 175,-147.67 175,-134.69\"/>\n<polygon fill=\"black\" stroke=\"black\" points=\"178.5,-134.98 175,-124.98 171.5,-134.98 178.5,-134.98\"/>\n<text text-anchor=\"middle\" x=\"185.5\" y=\"-144.8\" font-family=\"Times,serif\" font-size=\"14.00\">Yes</text>\n</g>\n<!-- leaf_2 -->\n<g id=\"node9\" class=\"node\">\n<title>leaf_2</title>\n<polygon fill=\"none\" stroke=\"red\" points=\"115,-36 31,-36 31,0 115,0 115,-36\"/>\n<text text-anchor=\"middle\" x=\"73\" y=\"-14.3\" font-family=\"Times,serif\" font-size=\"14.00\">val = &#45;0.161</text>\n</g>\n<!-- node_5&#45;&gt;leaf_2 -->\n<g id=\"edge3\" class=\"edge\">\n<title>node_5&#45;&gt;leaf_2</title>\n<path fill=\"none\" stroke=\"black\" d=\"M154.85,-87.21C139.82,-74.68 119.06,-57.39 102.21,-43.35\"/>\n<polygon fill=\"black\" stroke=\"black\" points=\"104.9,-41.02 94.97,-37.31 100.41,-46.4 104.9,-41.02\"/>\n<text text-anchor=\"middle\" x=\"139.5\" y=\"-57.8\" font-family=\"Times,serif\" font-size=\"14.00\">No</text>\n</g>\n<!-- leaf_3 -->\n<g id=\"node10\" class=\"node\">\n<title>leaf_3</title>\n<polygon fill=\"none\" stroke=\"red\" points=\"217,-36 133,-36 133,0 217,0 217,-36\"/>\n<text text-anchor=\"middle\" x=\"175\" y=\"-14.3\" font-family=\"Times,serif\" font-size=\"14.00\">val = &#45;0.567</text>\n</g>\n<!-- node_5&#45;&gt;leaf_3 -->\n<g id=\"edge4\" class=\"edge\">\n<title>node_5&#45;&gt;leaf_3</title>\n<path fill=\"none\" stroke=\"black\" d=\"M175,-86.8C175,-75.58 175,-60.67 175,-47.69\"/>\n<polygon fill=\"black\" stroke=\"black\" points=\"178.5,-47.98 175,-37.98 171.5,-47.98 178.5,-47.98\"/>\n<text text-anchor=\"middle\" x=\"185.5\" y=\"-57.8\" font-family=\"Times,serif\" font-size=\"14.00\">Yes</text>\n</g>\n<!-- node_9 -->\n<g id=\"node12\" class=\"node\">\n<title>node_9</title>\n<ellipse fill=\"none\" stroke=\"black\" cx=\"361\" cy=\"-105\" rx=\"77.19\" ry=\"18\"/>\n<text text-anchor=\"middle\" x=\"361\" y=\"-101.3\" font-family=\"Times,serif\" font-size=\"14.00\">39, value&gt;11.5844</text>\n</g>\n<!-- node_8&#45;&gt;node_9 -->\n<g id=\"edge9\" class=\"edge\">\n<title>node_8&#45;&gt;node_9</title>\n<path fill=\"none\" stroke=\"black\" d=\"M410.45,-173.8C401.8,-161.93 390.12,-145.93 380.29,-132.45\"/>\n<polygon fill=\"black\" stroke=\"black\" points=\"383.14,-130.41 374.42,-124.4 377.49,-134.54 383.14,-130.41\"/>\n<text text-anchor=\"middle\" x=\"404.5\" y=\"-144.8\" font-family=\"Times,serif\" font-size=\"14.00\">No</text>\n</g>\n<!-- node_12 -->\n<g id=\"node15\" class=\"node\">\n<title>node_12</title>\n<ellipse fill=\"none\" stroke=\"black\" cx=\"538\" cy=\"-105\" rx=\"81.79\" ry=\"18\"/>\n<text text-anchor=\"middle\" x=\"538\" y=\"-101.3\" font-family=\"Times,serif\" font-size=\"14.00\">0, value&gt;0.0461244</text>\n</g>\n<!-- node_8&#45;&gt;node_12 -->\n<g id=\"edge12\" class=\"edge\">\n<title>node_8&#45;&gt;node_12</title>\n<path fill=\"none\" stroke=\"black\" d=\"M445.45,-174.41C462.86,-161.54 487.21,-143.54 506.56,-129.24\"/>\n<polygon fill=\"black\" stroke=\"black\" points=\"508.43,-132.21 514.39,-123.45 504.27,-126.58 508.43,-132.21\"/>\n<text text-anchor=\"middle\" x=\"498.5\" y=\"-144.8\" font-family=\"Times,serif\" font-size=\"14.00\">Yes</text>\n</g>\n<!-- leaf_4 -->\n<g id=\"node13\" class=\"node\">\n<title>leaf_4</title>\n<polygon fill=\"none\" stroke=\"red\" points=\"319,-36 235,-36 235,0 319,0 319,-36\"/>\n<text text-anchor=\"middle\" x=\"277\" y=\"-14.3\" font-family=\"Times,serif\" font-size=\"14.00\">val = &#45;0.091</text>\n</g>\n<!-- node_9&#45;&gt;leaf_4 -->\n<g id=\"edge7\" class=\"edge\">\n<title>node_9&#45;&gt;leaf_4</title>\n<path fill=\"none\" stroke=\"black\" d=\"M344.4,-87.21C332.37,-75.03 315.87,-58.33 302.21,-44.51\"/>\n<polygon fill=\"black\" stroke=\"black\" points=\"304.72,-42.07 295.2,-37.42 299.74,-46.99 304.72,-42.07\"/>\n<text text-anchor=\"middle\" x=\"333.5\" y=\"-57.8\" font-family=\"Times,serif\" font-size=\"14.00\">No</text>\n</g>\n<!-- leaf_5 -->\n<g id=\"node14\" class=\"node\">\n<title>leaf_5</title>\n<polygon fill=\"none\" stroke=\"red\" points=\"417,-36 337,-36 337,0 417,0 417,-36\"/>\n<text text-anchor=\"middle\" x=\"377\" y=\"-14.3\" font-family=\"Times,serif\" font-size=\"14.00\">val = 0.521</text>\n</g>\n<!-- node_9&#45;&gt;leaf_5 -->\n<g id=\"edge8\" class=\"edge\">\n<title>node_9&#45;&gt;leaf_5</title>\n<path fill=\"none\" stroke=\"black\" d=\"M364.24,-86.8C366.35,-75.58 369.16,-60.67 371.6,-47.69\"/>\n<polygon fill=\"black\" stroke=\"black\" points=\"375.02,-48.43 373.43,-37.95 368.14,-47.13 375.02,-48.43\"/>\n<text text-anchor=\"middle\" x=\"380.5\" y=\"-57.8\" font-family=\"Times,serif\" font-size=\"14.00\">Yes</text>\n</g>\n<!-- leaf_6 -->\n<g id=\"node16\" class=\"node\">\n<title>leaf_6</title>\n<polygon fill=\"none\" stroke=\"red\" points=\"515,-36 435,-36 435,0 515,0 515,-36\"/>\n<text text-anchor=\"middle\" x=\"475\" y=\"-14.3\" font-family=\"Times,serif\" font-size=\"14.00\">val = 0.569</text>\n</g>\n<!-- node_12&#45;&gt;leaf_6 -->\n<g id=\"edge10\" class=\"edge\">\n<title>node_12&#45;&gt;leaf_6</title>\n<path fill=\"none\" stroke=\"black\" d=\"M525.25,-86.8C516.51,-75.01 504.75,-59.14 494.8,-45.72\"/>\n<polygon fill=\"black\" stroke=\"black\" points=\"497.61,-43.63 488.85,-37.68 491.99,-47.8 497.61,-43.63\"/>\n<text text-anchor=\"middle\" x=\"519.5\" y=\"-57.8\" font-family=\"Times,serif\" font-size=\"14.00\">No</text>\n</g>\n<!-- leaf_7 -->\n<g id=\"node17\" class=\"node\">\n<title>leaf_7</title>\n<polygon fill=\"none\" stroke=\"red\" points=\"617,-36 533,-36 533,0 617,0 617,-36\"/>\n<text text-anchor=\"middle\" x=\"575\" y=\"-14.3\" font-family=\"Times,serif\" font-size=\"14.00\">val = &#45;0.002</text>\n</g>\n<!-- node_12&#45;&gt;leaf_7 -->\n<g id=\"edge11\" class=\"edge\">\n<title>node_12&#45;&gt;leaf_7</title>\n<path fill=\"none\" stroke=\"black\" d=\"M545.49,-86.8C550.47,-75.35 557.13,-60.06 562.86,-46.89\"/>\n<polygon fill=\"black\" stroke=\"black\" points=\"566.01,-48.42 566.79,-37.85 559.59,-45.63 566.01,-48.42\"/>\n<text text-anchor=\"middle\" x=\"569.5\" y=\"-57.8\" font-family=\"Times,serif\" font-size=\"14.00\">Yes</text>\n</g>\n<!-- node_16 -->\n<g id=\"node19\" class=\"node\">\n<title>node_16</title>\n<ellipse fill=\"none\" stroke=\"black\" cx=\"1144\" cy=\"-279\" rx=\"89.08\" ry=\"18\"/>\n<text text-anchor=\"middle\" x=\"1144\" y=\"-275.3\" font-family=\"Times,serif\" font-size=\"14.00\">15, value&gt;&#45;0.0647785</text>\n</g>\n<!-- node_15&#45;&gt;node_16 -->\n<g id=\"edge30\" class=\"edge\">\n<title>node_15&#45;&gt;node_16</title>\n<path fill=\"none\" stroke=\"black\" d=\"M1215.42,-348.21C1202.46,-335.83 1184.62,-318.8 1170.02,-304.85\"/>\n<polygon fill=\"black\" stroke=\"black\" points=\"1172.6,-302.47 1162.95,-298.09 1167.76,-307.53 1172.6,-302.47\"/>\n<text text-anchor=\"middle\" x=\"1202.5\" y=\"-318.8\" font-family=\"Times,serif\" font-size=\"14.00\">No</text>\n</g>\n<!-- node_31 -->\n<g id=\"node34\" class=\"node\">\n<title>node_31</title>\n<ellipse fill=\"none\" stroke=\"black\" cx=\"1337\" cy=\"-279\" rx=\"80.69\" ry=\"18\"/>\n<text text-anchor=\"middle\" x=\"1337\" y=\"-275.3\" font-family=\"Times,serif\" font-size=\"14.00\">21, value&gt;&#45;10.8007</text>\n</g>\n<!-- node_15&#45;&gt;node_31 -->\n<g id=\"edge37\" class=\"edge\">\n<title>node_15&#45;&gt;node_31</title>\n<path fill=\"none\" stroke=\"black\" d=\"M1253.55,-348.21C1269.07,-335.52 1290.59,-317.93 1307.89,-303.79\"/>\n<polygon fill=\"black\" stroke=\"black\" points=\"1309.8,-306.75 1315.32,-297.72 1305.37,-301.33 1309.8,-306.75\"/>\n<text text-anchor=\"middle\" x=\"1302.5\" y=\"-318.8\" font-family=\"Times,serif\" font-size=\"14.00\">Yes</text>\n</g>\n<!-- node_17 -->\n<g id=\"node20\" class=\"node\">\n<title>node_17</title>\n<ellipse fill=\"none\" stroke=\"black\" cx=\"956\" cy=\"-192\" rx=\"76.09\" ry=\"18\"/>\n<text text-anchor=\"middle\" x=\"956\" y=\"-188.3\" font-family=\"Times,serif\" font-size=\"14.00\">3, value&gt;&#45;4.61403</text>\n</g>\n<!-- node_16&#45;&gt;node_17 -->\n<g id=\"edge22\" class=\"edge\">\n<title>node_16&#45;&gt;node_17</title>\n<path fill=\"none\" stroke=\"black\" d=\"M1108.64,-262.01C1078.02,-248.17 1033.59,-228.08 1000.55,-213.14\"/>\n<polygon fill=\"black\" stroke=\"black\" points=\"1002.18,-210.04 991.63,-209.11 999.3,-216.42 1002.18,-210.04\"/>\n<text text-anchor=\"middle\" x=\"1070.5\" y=\"-231.8\" font-family=\"Times,serif\" font-size=\"14.00\">No</text>\n</g>\n<!-- node_24 -->\n<g id=\"node27\" class=\"node\">\n<title>node_24</title>\n<ellipse fill=\"none\" stroke=\"black\" cx=\"1144\" cy=\"-192\" rx=\"77.19\" ry=\"18\"/>\n<text text-anchor=\"middle\" x=\"1144\" y=\"-188.3\" font-family=\"Times,serif\" font-size=\"14.00\">33, value&gt;2.38228</text>\n</g>\n<!-- node_16&#45;&gt;node_24 -->\n<g id=\"edge29\" class=\"edge\">\n<title>node_16&#45;&gt;node_24</title>\n<path fill=\"none\" stroke=\"black\" d=\"M1144,-260.8C1144,-249.58 1144,-234.67 1144,-221.69\"/>\n<polygon fill=\"black\" stroke=\"black\" points=\"1147.5,-221.98 1144,-211.98 1140.5,-221.98 1147.5,-221.98\"/>\n<text text-anchor=\"middle\" x=\"1154.5\" y=\"-231.8\" font-family=\"Times,serif\" font-size=\"14.00\">Yes</text>\n</g>\n<!-- node_18 -->\n<g id=\"node21\" class=\"node\">\n<title>node_18</title>\n<ellipse fill=\"none\" stroke=\"black\" cx=\"772\" cy=\"-105\" rx=\"80.69\" ry=\"18\"/>\n<text text-anchor=\"middle\" x=\"772\" y=\"-101.3\" font-family=\"Times,serif\" font-size=\"14.00\">38, value&gt;&#45;29.2201</text>\n</g>\n<!-- node_17&#45;&gt;node_18 -->\n<g id=\"edge18\" class=\"edge\">\n<title>node_17&#45;&gt;node_18</title>\n<path fill=\"none\" stroke=\"black\" d=\"M922.25,-175.41C892.48,-161.66 848.89,-141.52 816.31,-126.47\"/>\n<polygon fill=\"black\" stroke=\"black\" points=\"818.08,-123.43 807.53,-122.41 815.14,-129.79 818.08,-123.43\"/>\n<text text-anchor=\"middle\" x=\"884.5\" y=\"-144.8\" font-family=\"Times,serif\" font-size=\"14.00\">No</text>\n</g>\n<!-- node_21 -->\n<g id=\"node24\" class=\"node\">\n<title>node_21</title>\n<ellipse fill=\"none\" stroke=\"black\" cx=\"956\" cy=\"-105\" rx=\"85.29\" ry=\"18\"/>\n<text text-anchor=\"middle\" x=\"956\" y=\"-101.3\" font-family=\"Times,serif\" font-size=\"14.00\">15, value&gt;&#45;0.815028</text>\n</g>\n<!-- node_17&#45;&gt;node_21 -->\n<g id=\"edge21\" class=\"edge\">\n<title>node_17&#45;&gt;node_21</title>\n<path fill=\"none\" stroke=\"black\" d=\"M956,-173.8C956,-162.58 956,-147.67 956,-134.69\"/>\n<polygon fill=\"black\" stroke=\"black\" points=\"959.5,-134.98 956,-124.98 952.5,-134.98 959.5,-134.98\"/>\n<text text-anchor=\"middle\" x=\"966.5\" y=\"-144.8\" font-family=\"Times,serif\" font-size=\"14.00\">Yes</text>\n</g>\n<!-- leaf_8 -->\n<g id=\"node22\" class=\"node\">\n<title>leaf_8</title>\n<polygon fill=\"none\" stroke=\"red\" points=\"715,-36 635,-36 635,0 715,0 715,-36\"/>\n<text text-anchor=\"middle\" x=\"675\" y=\"-14.3\" font-family=\"Times,serif\" font-size=\"14.00\">val = 0.720</text>\n</g>\n<!-- node_18&#45;&gt;leaf_8 -->\n<g id=\"edge16\" class=\"edge\">\n<title>node_18&#45;&gt;leaf_8</title>\n<path fill=\"none\" stroke=\"black\" d=\"M752.84,-87.21C738.67,-74.8 719.17,-57.7 703.22,-43.73\"/>\n<polygon fill=\"black\" stroke=\"black\" points=\"705.76,-41.3 695.93,-37.34 701.14,-46.56 705.76,-41.3\"/>\n<text text-anchor=\"middle\" x=\"738.5\" y=\"-57.8\" font-family=\"Times,serif\" font-size=\"14.00\">No</text>\n</g>\n<!-- leaf_9 -->\n<g id=\"node23\" class=\"node\">\n<title>leaf_9</title>\n<polygon fill=\"none\" stroke=\"red\" points=\"813,-36 733,-36 733,0 813,0 813,-36\"/>\n<text text-anchor=\"middle\" x=\"773\" y=\"-14.3\" font-family=\"Times,serif\" font-size=\"14.00\">val = 0.144</text>\n</g>\n<!-- node_18&#45;&gt;leaf_9 -->\n<g id=\"edge17\" class=\"edge\">\n<title>node_18&#45;&gt;leaf_9</title>\n<path fill=\"none\" stroke=\"black\" d=\"M772.2,-86.8C772.33,-75.58 772.51,-60.67 772.66,-47.69\"/>\n<polygon fill=\"black\" stroke=\"black\" points=\"776.16,-48.02 772.78,-37.98 769.16,-47.94 776.16,-48.02\"/>\n<text text-anchor=\"middle\" x=\"783.5\" y=\"-57.8\" font-family=\"Times,serif\" font-size=\"14.00\">Yes</text>\n</g>\n<!-- leaf_10 -->\n<g id=\"node25\" class=\"node\">\n<title>leaf_10</title>\n<polygon fill=\"none\" stroke=\"red\" points=\"915,-36 831,-36 831,0 915,0 915,-36\"/>\n<text text-anchor=\"middle\" x=\"873\" y=\"-14.3\" font-family=\"Times,serif\" font-size=\"14.00\">val = &#45;0.011</text>\n</g>\n<!-- node_21&#45;&gt;leaf_10 -->\n<g id=\"edge19\" class=\"edge\">\n<title>node_21&#45;&gt;leaf_10</title>\n<path fill=\"none\" stroke=\"black\" d=\"M939.6,-87.21C927.71,-75.03 911.41,-58.33 897.91,-44.51\"/>\n<polygon fill=\"black\" stroke=\"black\" points=\"900.48,-42.13 890.99,-37.42 895.47,-47.02 900.48,-42.13\"/>\n<text text-anchor=\"middle\" x=\"928.5\" y=\"-57.8\" font-family=\"Times,serif\" font-size=\"14.00\">No</text>\n</g>\n<!-- leaf_11 -->\n<g id=\"node26\" class=\"node\">\n<title>leaf_11</title>\n<polygon fill=\"none\" stroke=\"red\" points=\"1013,-36 933,-36 933,0 1013,0 1013,-36\"/>\n<text text-anchor=\"middle\" x=\"973\" y=\"-14.3\" font-family=\"Times,serif\" font-size=\"14.00\">val = 0.239</text>\n</g>\n<!-- node_21&#45;&gt;leaf_11 -->\n<g id=\"edge20\" class=\"edge\">\n<title>node_21&#45;&gt;leaf_11</title>\n<path fill=\"none\" stroke=\"black\" d=\"M959.44,-86.8C961.68,-75.58 964.67,-60.67 967.26,-47.69\"/>\n<polygon fill=\"black\" stroke=\"black\" points=\"970.68,-48.44 969.21,-37.95 963.82,-47.07 970.68,-48.44\"/>\n<text text-anchor=\"middle\" x=\"976.5\" y=\"-57.8\" font-family=\"Times,serif\" font-size=\"14.00\">Yes</text>\n</g>\n<!-- node_25 -->\n<g id=\"node28\" class=\"node\">\n<title>node_25</title>\n<ellipse fill=\"none\" stroke=\"black\" cx=\"1133\" cy=\"-105\" rx=\"73.39\" ry=\"18\"/>\n<text text-anchor=\"middle\" x=\"1133\" y=\"-101.3\" font-family=\"Times,serif\" font-size=\"14.00\">8, value&gt;21.4189</text>\n</g>\n<!-- node_24&#45;&gt;node_25 -->\n<g id=\"edge25\" class=\"edge\">\n<title>node_24&#45;&gt;node_25</title>\n<path fill=\"none\" stroke=\"black\" d=\"M1141.77,-173.8C1140.32,-162.58 1138.39,-147.67 1136.71,-134.69\"/>\n<polygon fill=\"black\" stroke=\"black\" points=\"1140.21,-134.44 1135.45,-124.97 1133.27,-135.33 1140.21,-134.44\"/>\n<text text-anchor=\"middle\" x=\"1148.5\" y=\"-144.8\" font-family=\"Times,serif\" font-size=\"14.00\">No</text>\n</g>\n<!-- node_28 -->\n<g id=\"node31\" class=\"node\">\n<title>node_28</title>\n<ellipse fill=\"none\" stroke=\"black\" cx=\"1302\" cy=\"-105\" rx=\"77.19\" ry=\"18\"/>\n<text text-anchor=\"middle\" x=\"1302\" y=\"-101.3\" font-family=\"Times,serif\" font-size=\"14.00\">13, value&gt;3.32813</text>\n</g>\n<!-- node_24&#45;&gt;node_28 -->\n<g id=\"edge28\" class=\"edge\">\n<title>node_24&#45;&gt;node_28</title>\n<path fill=\"none\" stroke=\"black\" d=\"M1173.72,-175.01C1198.69,-161.58 1234.59,-142.26 1262.07,-127.48\"/>\n<polygon fill=\"black\" stroke=\"black\" points=\"1263.67,-130.6 1270.81,-122.78 1260.35,-124.43 1263.67,-130.6\"/>\n<text text-anchor=\"middle\" x=\"1243.5\" y=\"-144.8\" font-family=\"Times,serif\" font-size=\"14.00\">Yes</text>\n</g>\n<!-- leaf_12 -->\n<g id=\"node29\" class=\"node\">\n<title>leaf_12</title>\n<polygon fill=\"none\" stroke=\"red\" points=\"1111,-36 1031,-36 1031,0 1111,0 1111,-36\"/>\n<text text-anchor=\"middle\" x=\"1071\" y=\"-14.3\" font-family=\"Times,serif\" font-size=\"14.00\">val = 0.001</text>\n</g>\n<!-- node_25&#45;&gt;leaf_12 -->\n<g id=\"edge23\" class=\"edge\">\n<title>node_25&#45;&gt;leaf_12</title>\n<path fill=\"none\" stroke=\"black\" d=\"M1120.45,-86.8C1111.85,-75.01 1100.28,-59.14 1090.49,-45.72\"/>\n<polygon fill=\"black\" stroke=\"black\" points=\"1093.35,-43.71 1084.63,-37.69 1087.7,-47.83 1093.35,-43.71\"/>\n<text text-anchor=\"middle\" x=\"1114.5\" y=\"-57.8\" font-family=\"Times,serif\" font-size=\"14.00\">No</text>\n</g>\n<!-- leaf_13 -->\n<g id=\"node30\" class=\"node\">\n<title>leaf_13</title>\n<polygon fill=\"none\" stroke=\"red\" points=\"1213,-36 1129,-36 1129,0 1213,0 1213,-36\"/>\n<text text-anchor=\"middle\" x=\"1171\" y=\"-14.3\" font-family=\"Times,serif\" font-size=\"14.00\">val = &#45;0.304</text>\n</g>\n<!-- node_25&#45;&gt;leaf_13 -->\n<g id=\"edge24\" class=\"edge\">\n<title>node_25&#45;&gt;leaf_13</title>\n<path fill=\"none\" stroke=\"black\" d=\"M1140.69,-86.8C1145.81,-75.35 1152.64,-60.06 1158.53,-46.89\"/>\n<polygon fill=\"black\" stroke=\"black\" points=\"1161.69,-48.41 1162.57,-37.85 1155.3,-45.55 1161.69,-48.41\"/>\n<text text-anchor=\"middle\" x=\"1165.5\" y=\"-57.8\" font-family=\"Times,serif\" font-size=\"14.00\">Yes</text>\n</g>\n<!-- leaf_14 -->\n<g id=\"node32\" class=\"node\">\n<title>leaf_14</title>\n<polygon fill=\"none\" stroke=\"red\" points=\"1315,-36 1231,-36 1231,0 1315,0 1315,-36\"/>\n<text text-anchor=\"middle\" x=\"1273\" y=\"-14.3\" font-family=\"Times,serif\" font-size=\"14.00\">val = &#45;0.066</text>\n</g>\n<!-- node_28&#45;&gt;leaf_14 -->\n<g id=\"edge26\" class=\"edge\">\n<title>node_28&#45;&gt;leaf_14</title>\n<path fill=\"none\" stroke=\"black\" d=\"M1296.13,-86.8C1292.27,-75.47 1287.11,-60.36 1282.65,-47.29\"/>\n<polygon fill=\"black\" stroke=\"black\" points=\"1285.99,-46.23 1279.45,-37.9 1279.36,-48.49 1285.99,-46.23\"/>\n<text text-anchor=\"middle\" x=\"1298.5\" y=\"-57.8\" font-family=\"Times,serif\" font-size=\"14.00\">No</text>\n</g>\n<!-- leaf_15 -->\n<g id=\"node33\" class=\"node\">\n<title>leaf_15</title>\n<polygon fill=\"none\" stroke=\"red\" points=\"1417,-36 1333,-36 1333,0 1417,0 1417,-36\"/>\n<text text-anchor=\"middle\" x=\"1375\" y=\"-14.3\" font-family=\"Times,serif\" font-size=\"14.00\">val = &#45;0.584</text>\n</g>\n<!-- node_28&#45;&gt;leaf_15 -->\n<g id=\"edge27\" class=\"edge\">\n<title>node_28&#45;&gt;leaf_15</title>\n<path fill=\"none\" stroke=\"black\" d=\"M1316.42,-87.21C1326.78,-75.14 1340.95,-58.65 1352.75,-44.9\"/>\n<polygon fill=\"black\" stroke=\"black\" points=\"1355.26,-47.36 1359.12,-37.49 1349.95,-42.8 1355.26,-47.36\"/>\n<text text-anchor=\"middle\" x=\"1353.5\" y=\"-57.8\" font-family=\"Times,serif\" font-size=\"14.00\">Yes</text>\n</g>\n<!-- leaf_16 -->\n<g id=\"node35\" class=\"node\">\n<title>leaf_16</title>\n<polygon fill=\"none\" stroke=\"red\" points=\"1377,-210 1297,-210 1297,-174 1377,-174 1377,-210\"/>\n<text text-anchor=\"middle\" x=\"1337\" y=\"-188.3\" font-family=\"Times,serif\" font-size=\"14.00\">val = 1.206</text>\n</g>\n<!-- node_31&#45;&gt;leaf_16 -->\n<g id=\"edge31\" class=\"edge\">\n<title>node_31&#45;&gt;leaf_16</title>\n<path fill=\"none\" stroke=\"black\" d=\"M1337,-260.8C1337,-249.58 1337,-234.67 1337,-221.69\"/>\n<polygon fill=\"black\" stroke=\"black\" points=\"1340.5,-221.98 1337,-211.98 1333.5,-221.98 1340.5,-221.98\"/>\n<text text-anchor=\"middle\" x=\"1345.5\" y=\"-231.8\" font-family=\"Times,serif\" font-size=\"14.00\">No</text>\n</g>\n<!-- node_32 -->\n<g id=\"node36\" class=\"node\">\n<title>node_32</title>\n<ellipse fill=\"none\" stroke=\"black\" cx=\"1475\" cy=\"-192\" rx=\"77.19\" ry=\"18\"/>\n<text text-anchor=\"middle\" x=\"1475\" y=\"-188.3\" font-family=\"Times,serif\" font-size=\"14.00\">47, value&gt;6.23358</text>\n</g>\n<!-- node_31&#45;&gt;node_32 -->\n<g id=\"edge36\" class=\"edge\">\n<title>node_31&#45;&gt;node_32</title>\n<path fill=\"none\" stroke=\"black\" d=\"M1363.61,-261.61C1384.99,-248.44 1415.24,-229.81 1438.82,-215.28\"/>\n<polygon fill=\"black\" stroke=\"black\" points=\"1440.51,-218.36 1447.19,-210.13 1436.84,-212.4 1440.51,-218.36\"/>\n<text text-anchor=\"middle\" x=\"1425.5\" y=\"-231.8\" font-family=\"Times,serif\" font-size=\"14.00\">Yes</text>\n</g>\n<!-- node_33 -->\n<g id=\"node37\" class=\"node\">\n<title>node_33</title>\n<ellipse fill=\"none\" stroke=\"black\" cx=\"1475\" cy=\"-105\" rx=\"77.19\" ry=\"18\"/>\n<text text-anchor=\"middle\" x=\"1475\" y=\"-101.3\" font-family=\"Times,serif\" font-size=\"14.00\">34, value&gt;12.5633</text>\n</g>\n<!-- node_32&#45;&gt;node_33 -->\n<g id=\"edge34\" class=\"edge\">\n<title>node_32&#45;&gt;node_33</title>\n<path fill=\"none\" stroke=\"black\" d=\"M1475,-173.8C1475,-162.58 1475,-147.67 1475,-134.69\"/>\n<polygon fill=\"black\" stroke=\"black\" points=\"1478.5,-134.98 1475,-124.98 1471.5,-134.98 1478.5,-134.98\"/>\n<text text-anchor=\"middle\" x=\"1483.5\" y=\"-144.8\" font-family=\"Times,serif\" font-size=\"14.00\">No</text>\n</g>\n<!-- leaf_17 -->\n<g id=\"node40\" class=\"node\">\n<title>leaf_17</title>\n<polygon fill=\"none\" stroke=\"red\" points=\"1650,-123 1570,-123 1570,-87 1650,-87 1650,-123\"/>\n<text text-anchor=\"middle\" x=\"1610\" y=\"-101.3\" font-family=\"Times,serif\" font-size=\"14.00\">val = 0.572</text>\n</g>\n<!-- node_32&#45;&gt;leaf_17 -->\n<g id=\"edge35\" class=\"edge\">\n<title>node_32&#45;&gt;leaf_17</title>\n<path fill=\"none\" stroke=\"black\" d=\"M1501.03,-174.61C1521.45,-161.75 1550.15,-143.69 1572.96,-129.32\"/>\n<polygon fill=\"black\" stroke=\"black\" points=\"1574.78,-132.31 1581.38,-124.02 1571.05,-126.39 1574.78,-132.31\"/>\n<text text-anchor=\"middle\" x=\"1561.5\" y=\"-144.8\" font-family=\"Times,serif\" font-size=\"14.00\">Yes</text>\n</g>\n<!-- leaf_18 -->\n<g id=\"node38\" class=\"node\">\n<title>leaf_18</title>\n<polygon fill=\"none\" stroke=\"red\" points=\"1515,-36 1435,-36 1435,0 1515,0 1515,-36\"/>\n<text text-anchor=\"middle\" x=\"1475\" y=\"-14.3\" font-family=\"Times,serif\" font-size=\"14.00\">val = 0.183</text>\n</g>\n<!-- node_33&#45;&gt;leaf_18 -->\n<g id=\"edge32\" class=\"edge\">\n<title>node_33&#45;&gt;leaf_18</title>\n<path fill=\"none\" stroke=\"black\" d=\"M1475,-86.8C1475,-75.58 1475,-60.67 1475,-47.69\"/>\n<polygon fill=\"black\" stroke=\"black\" points=\"1478.5,-47.98 1475,-37.98 1471.5,-47.98 1478.5,-47.98\"/>\n<text text-anchor=\"middle\" x=\"1483.5\" y=\"-57.8\" font-family=\"Times,serif\" font-size=\"14.00\">No</text>\n</g>\n<!-- leaf_19 -->\n<g id=\"node39\" class=\"node\">\n<title>leaf_19</title>\n<polygon fill=\"none\" stroke=\"red\" points=\"1613,-36 1533,-36 1533,0 1613,0 1613,-36\"/>\n<text text-anchor=\"middle\" x=\"1573\" y=\"-14.3\" font-family=\"Times,serif\" font-size=\"14.00\">val = 0.352</text>\n</g>\n<!-- node_33&#45;&gt;leaf_19 -->\n<g id=\"edge33\" class=\"edge\">\n<title>node_33&#45;&gt;leaf_19</title>\n<path fill=\"none\" stroke=\"black\" d=\"M1494.36,-87.21C1508.67,-74.8 1528.38,-57.7 1544.49,-43.73\"/>\n<polygon fill=\"black\" stroke=\"black\" points=\"1546.6,-46.53 1551.86,-37.33 1542.01,-41.24 1546.6,-46.53\"/>\n<text text-anchor=\"middle\" x=\"1540.5\" y=\"-57.8\" font-family=\"Times,serif\" font-size=\"14.00\">Yes</text>\n</g>\n<!-- node_37 -->\n<g id=\"node42\" class=\"node\">\n<title>node_37</title>\n<ellipse fill=\"none\" stroke=\"black\" cx=\"1787\" cy=\"-366\" rx=\"77.19\" ry=\"18\"/>\n<text text-anchor=\"middle\" x=\"1787\" y=\"-362.3\" font-family=\"Times,serif\" font-size=\"14.00\">15, value&gt;5.77389</text>\n</g>\n<!-- node_36&#45;&gt;node_37 -->\n<g id=\"edge50\" class=\"edge\">\n<title>node_36&#45;&gt;node_37</title>\n<path fill=\"none\" stroke=\"black\" d=\"M1787,-434.8C1787,-423.58 1787,-408.67 1787,-395.69\"/>\n<polygon fill=\"black\" stroke=\"black\" points=\"1790.5,-395.98 1787,-385.98 1783.5,-395.98 1790.5,-395.98\"/>\n<text text-anchor=\"middle\" x=\"1795.5\" y=\"-405.8\" font-family=\"Times,serif\" font-size=\"14.00\">No</text>\n</g>\n<!-- node_46 -->\n<g id=\"node53\" class=\"node\">\n<title>node_46</title>\n<ellipse fill=\"none\" stroke=\"black\" cx=\"2025\" cy=\"-366\" rx=\"77.19\" ry=\"18\"/>\n<text text-anchor=\"middle\" x=\"2025\" y=\"-362.3\" font-family=\"Times,serif\" font-size=\"14.00\">39, value&gt;11.5844</text>\n</g>\n<!-- node_36&#45;&gt;node_46 -->\n<g id=\"edge59\" class=\"edge\">\n<title>node_36&#45;&gt;node_46</title>\n<path fill=\"none\" stroke=\"black\" d=\"M1828.46,-437.19C1868.73,-422.81 1929.98,-400.93 1973.39,-385.43\"/>\n<polygon fill=\"black\" stroke=\"black\" points=\"1974.35,-388.8 1982.59,-382.15 1972,-382.21 1974.35,-388.8\"/>\n<text text-anchor=\"middle\" x=\"1931.5\" y=\"-405.8\" font-family=\"Times,serif\" font-size=\"14.00\">Yes</text>\n</g>\n<!-- node_38 -->\n<g id=\"node43\" class=\"node\">\n<title>node_38</title>\n<ellipse fill=\"none\" stroke=\"black\" cx=\"1705\" cy=\"-279\" rx=\"80.69\" ry=\"18\"/>\n<text text-anchor=\"middle\" x=\"1705\" y=\"-275.3\" font-family=\"Times,serif\" font-size=\"14.00\">10, value&gt;&#45;6.83442</text>\n</g>\n<!-- node_37&#45;&gt;node_38 -->\n<g id=\"edge46\" class=\"edge\">\n<title>node_37&#45;&gt;node_38</title>\n<path fill=\"none\" stroke=\"black\" d=\"M1770.8,-348.21C1758.97,-335.95 1742.73,-319.11 1729.35,-305.24\"/>\n<polygon fill=\"black\" stroke=\"black\" points=\"1731.96,-302.91 1722.5,-298.14 1726.92,-307.77 1731.96,-302.91\"/>\n<text text-anchor=\"middle\" x=\"1759.5\" y=\"-318.8\" font-family=\"Times,serif\" font-size=\"14.00\">No</text>\n</g>\n<!-- node_43 -->\n<g id=\"node50\" class=\"node\">\n<title>node_43</title>\n<ellipse fill=\"none\" stroke=\"black\" cx=\"1884\" cy=\"-279\" rx=\"80.69\" ry=\"18\"/>\n<text text-anchor=\"middle\" x=\"1884\" y=\"-275.3\" font-family=\"Times,serif\" font-size=\"14.00\">46, value&gt;&#45;27.2597</text>\n</g>\n<!-- node_37&#45;&gt;node_43 -->\n<g id=\"edge49\" class=\"edge\">\n<title>node_37&#45;&gt;node_43</title>\n<path fill=\"none\" stroke=\"black\" d=\"M1806.16,-348.21C1820.51,-335.63 1840.35,-318.25 1856.4,-304.18\"/>\n<polygon fill=\"black\" stroke=\"black\" points=\"1858.52,-306.98 1863.74,-297.76 1853.91,-301.71 1858.52,-306.98\"/>\n<text text-anchor=\"middle\" x=\"1852.5\" y=\"-318.8\" font-family=\"Times,serif\" font-size=\"14.00\">Yes</text>\n</g>\n<!-- leaf_20 -->\n<g id=\"node44\" class=\"node\">\n<title>leaf_20</title>\n<polygon fill=\"none\" stroke=\"red\" points=\"1654,-210 1574,-210 1574,-174 1654,-174 1654,-210\"/>\n<text text-anchor=\"middle\" x=\"1614\" y=\"-188.3\" font-family=\"Times,serif\" font-size=\"14.00\">val = 0.375</text>\n</g>\n<!-- node_38&#45;&gt;leaf_20 -->\n<g id=\"edge40\" class=\"edge\">\n<title>node_38&#45;&gt;leaf_20</title>\n<path fill=\"none\" stroke=\"black\" d=\"M1687.02,-261.21C1673.86,-248.91 1655.77,-232.02 1640.89,-218.12\"/>\n<polygon fill=\"black\" stroke=\"black\" points=\"1643.37,-215.64 1633.67,-211.38 1638.59,-220.76 1643.37,-215.64\"/>\n<text text-anchor=\"middle\" x=\"1673.5\" y=\"-231.8\" font-family=\"Times,serif\" font-size=\"14.00\">No</text>\n</g>\n<!-- node_39 -->\n<g id=\"node45\" class=\"node\">\n<title>node_39</title>\n<ellipse fill=\"none\" stroke=\"black\" cx=\"1749\" cy=\"-192\" rx=\"77.19\" ry=\"18\"/>\n<text text-anchor=\"middle\" x=\"1749\" y=\"-188.3\" font-family=\"Times,serif\" font-size=\"14.00\">22, value&gt;2.65402</text>\n</g>\n<!-- node_38&#45;&gt;node_39 -->\n<g id=\"edge45\" class=\"edge\">\n<title>node_38&#45;&gt;node_39</title>\n<path fill=\"none\" stroke=\"black\" d=\"M1713.9,-260.8C1719.93,-249.16 1728.01,-233.55 1734.9,-220.24\"/>\n<polygon fill=\"black\" stroke=\"black\" points=\"1737.92,-222.01 1739.41,-211.52 1731.71,-218.79 1737.92,-222.01\"/>\n<text text-anchor=\"middle\" x=\"1740.5\" y=\"-231.8\" font-family=\"Times,serif\" font-size=\"14.00\">Yes</text>\n</g>\n<!-- node_40 -->\n<g id=\"node46\" class=\"node\">\n<title>node_40</title>\n<ellipse fill=\"none\" stroke=\"black\" cx=\"1749\" cy=\"-105\" rx=\"80.69\" ry=\"18\"/>\n<text text-anchor=\"middle\" x=\"1749\" y=\"-101.3\" font-family=\"Times,serif\" font-size=\"14.00\">26, value&gt;&#45;0.13478</text>\n</g>\n<!-- node_39&#45;&gt;node_40 -->\n<g id=\"edge43\" class=\"edge\">\n<title>node_39&#45;&gt;node_40</title>\n<path fill=\"none\" stroke=\"black\" d=\"M1749,-173.8C1749,-162.58 1749,-147.67 1749,-134.69\"/>\n<polygon fill=\"black\" stroke=\"black\" points=\"1752.5,-134.98 1749,-124.98 1745.5,-134.98 1752.5,-134.98\"/>\n<text text-anchor=\"middle\" x=\"1757.5\" y=\"-144.8\" font-family=\"Times,serif\" font-size=\"14.00\">No</text>\n</g>\n<!-- leaf_21 -->\n<g id=\"node49\" class=\"node\">\n<title>leaf_21</title>\n<polygon fill=\"none\" stroke=\"red\" points=\"1928,-123 1848,-123 1848,-87 1928,-87 1928,-123\"/>\n<text text-anchor=\"middle\" x=\"1888\" y=\"-101.3\" font-family=\"Times,serif\" font-size=\"14.00\">val = 0.258</text>\n</g>\n<!-- node_39&#45;&gt;leaf_21 -->\n<g id=\"edge44\" class=\"edge\">\n<title>node_39&#45;&gt;leaf_21</title>\n<path fill=\"none\" stroke=\"black\" d=\"M1775.47,-174.81C1796.56,-161.92 1826.37,-143.69 1850.01,-129.23\"/>\n<polygon fill=\"black\" stroke=\"black\" points=\"1851.72,-132.29 1858.42,-124.09 1848.07,-126.32 1851.72,-132.29\"/>\n<text text-anchor=\"middle\" x=\"1837.5\" y=\"-144.8\" font-family=\"Times,serif\" font-size=\"14.00\">Yes</text>\n</g>\n<!-- leaf_22 -->\n<g id=\"node47\" class=\"node\">\n<title>leaf_22</title>\n<polygon fill=\"none\" stroke=\"red\" points=\"1778,-36 1694,-36 1694,0 1778,0 1778,-36\"/>\n<text text-anchor=\"middle\" x=\"1736\" y=\"-14.3\" font-family=\"Times,serif\" font-size=\"14.00\">val = &#45;0.242</text>\n</g>\n<!-- node_40&#45;&gt;leaf_22 -->\n<g id=\"edge41\" class=\"edge\">\n<title>node_40&#45;&gt;leaf_22</title>\n<path fill=\"none\" stroke=\"black\" d=\"M1746.37,-86.8C1744.65,-75.58 1742.37,-60.67 1740.39,-47.69\"/>\n<polygon fill=\"black\" stroke=\"black\" points=\"1743.87,-47.32 1738.9,-37.96 1736.95,-48.38 1743.87,-47.32\"/>\n<text text-anchor=\"middle\" x=\"1752.5\" y=\"-57.8\" font-family=\"Times,serif\" font-size=\"14.00\">No</text>\n</g>\n<!-- leaf_23 -->\n<g id=\"node48\" class=\"node\">\n<title>leaf_23</title>\n<polygon fill=\"none\" stroke=\"red\" points=\"1876,-36 1796,-36 1796,0 1876,0 1876,-36\"/>\n<text text-anchor=\"middle\" x=\"1836\" y=\"-14.3\" font-family=\"Times,serif\" font-size=\"14.00\">val = 0.082</text>\n</g>\n<!-- node_40&#45;&gt;leaf_23 -->\n<g id=\"edge42\" class=\"edge\">\n<title>node_40&#45;&gt;leaf_23</title>\n<path fill=\"none\" stroke=\"black\" d=\"M1766.19,-87.21C1778.77,-74.91 1796.06,-58.02 1810.29,-44.12\"/>\n<polygon fill=\"black\" stroke=\"black\" points=\"1812.46,-46.89 1817.17,-37.4 1807.57,-41.88 1812.46,-46.89\"/>\n<text text-anchor=\"middle\" x=\"1808.5\" y=\"-57.8\" font-family=\"Times,serif\" font-size=\"14.00\">Yes</text>\n</g>\n<!-- leaf_24 -->\n<g id=\"node51\" class=\"node\">\n<title>leaf_24</title>\n<polygon fill=\"none\" stroke=\"red\" points=\"1924,-210 1844,-210 1844,-174 1924,-174 1924,-210\"/>\n<text text-anchor=\"middle\" x=\"1884\" y=\"-188.3\" font-family=\"Times,serif\" font-size=\"14.00\">val = 0.660</text>\n</g>\n<!-- node_43&#45;&gt;leaf_24 -->\n<g id=\"edge47\" class=\"edge\">\n<title>node_43&#45;&gt;leaf_24</title>\n<path fill=\"none\" stroke=\"black\" d=\"M1884,-260.8C1884,-249.58 1884,-234.67 1884,-221.69\"/>\n<polygon fill=\"black\" stroke=\"black\" points=\"1887.5,-221.98 1884,-211.98 1880.5,-221.98 1887.5,-221.98\"/>\n<text text-anchor=\"middle\" x=\"1892.5\" y=\"-231.8\" font-family=\"Times,serif\" font-size=\"14.00\">No</text>\n</g>\n<!-- leaf_25 -->\n<g id=\"node52\" class=\"node\">\n<title>leaf_25</title>\n<polygon fill=\"none\" stroke=\"red\" points=\"2022,-210 1942,-210 1942,-174 2022,-174 2022,-210\"/>\n<text text-anchor=\"middle\" x=\"1982\" y=\"-188.3\" font-family=\"Times,serif\" font-size=\"14.00\">val = 0.144</text>\n</g>\n<!-- node_43&#45;&gt;leaf_25 -->\n<g id=\"edge48\" class=\"edge\">\n<title>node_43&#45;&gt;leaf_25</title>\n<path fill=\"none\" stroke=\"black\" d=\"M1903.36,-261.21C1917.67,-248.8 1937.38,-231.7 1953.49,-217.73\"/>\n<polygon fill=\"black\" stroke=\"black\" points=\"1955.6,-220.53 1960.86,-211.33 1951.01,-215.24 1955.6,-220.53\"/>\n<text text-anchor=\"middle\" x=\"1949.5\" y=\"-231.8\" font-family=\"Times,serif\" font-size=\"14.00\">Yes</text>\n</g>\n<!-- leaf_26 -->\n<g id=\"node54\" class=\"node\">\n<title>leaf_26</title>\n<polygon fill=\"none\" stroke=\"red\" points=\"2067,-297 1983,-297 1983,-261 2067,-261 2067,-297\"/>\n<text text-anchor=\"middle\" x=\"2025\" y=\"-275.3\" font-family=\"Times,serif\" font-size=\"14.00\">val = &#45;0.010</text>\n</g>\n<!-- node_46&#45;&gt;leaf_26 -->\n<g id=\"edge51\" class=\"edge\">\n<title>node_46&#45;&gt;leaf_26</title>\n<path fill=\"none\" stroke=\"black\" d=\"M2025,-347.8C2025,-336.58 2025,-321.67 2025,-308.69\"/>\n<polygon fill=\"black\" stroke=\"black\" points=\"2028.5,-308.98 2025,-298.98 2021.5,-308.98 2028.5,-308.98\"/>\n<text text-anchor=\"middle\" x=\"2033.5\" y=\"-318.8\" font-family=\"Times,serif\" font-size=\"14.00\">No</text>\n</g>\n<!-- node_47 -->\n<g id=\"node55\" class=\"node\">\n<title>node_47</title>\n<ellipse fill=\"none\" stroke=\"black\" cx=\"2158\" cy=\"-279\" rx=\"73.39\" ry=\"18\"/>\n<text text-anchor=\"middle\" x=\"2158\" y=\"-275.3\" font-family=\"Times,serif\" font-size=\"14.00\">14, value&gt;11.631</text>\n</g>\n<!-- node_46&#45;&gt;node_47 -->\n<g id=\"edge58\" class=\"edge\">\n<title>node_46&#45;&gt;node_47</title>\n<path fill=\"none\" stroke=\"black\" d=\"M2050.64,-348.61C2071.16,-335.5 2100.14,-316.98 2122.83,-302.48\"/>\n<polygon fill=\"black\" stroke=\"black\" points=\"2124.62,-305.49 2131.16,-297.15 2120.85,-299.59 2124.62,-305.49\"/>\n<text text-anchor=\"middle\" x=\"2110.5\" y=\"-318.8\" font-family=\"Times,serif\" font-size=\"14.00\">Yes</text>\n</g>\n<!-- node_48 -->\n<g id=\"node56\" class=\"node\">\n<title>node_48</title>\n<ellipse fill=\"none\" stroke=\"black\" cx=\"2158\" cy=\"-192\" rx=\"77.19\" ry=\"18\"/>\n<text text-anchor=\"middle\" x=\"2158\" y=\"-188.3\" font-family=\"Times,serif\" font-size=\"14.00\">31, value&gt;5.27974</text>\n</g>\n<!-- node_47&#45;&gt;node_48 -->\n<g id=\"edge56\" class=\"edge\">\n<title>node_47&#45;&gt;node_48</title>\n<path fill=\"none\" stroke=\"black\" d=\"M2158,-260.8C2158,-249.58 2158,-234.67 2158,-221.69\"/>\n<polygon fill=\"black\" stroke=\"black\" points=\"2161.5,-221.98 2158,-211.98 2154.5,-221.98 2161.5,-221.98\"/>\n<text text-anchor=\"middle\" x=\"2166.5\" y=\"-231.8\" font-family=\"Times,serif\" font-size=\"14.00\">No</text>\n</g>\n<!-- leaf_27 -->\n<g id=\"node61\" class=\"node\">\n<title>leaf_27</title>\n<polygon fill=\"none\" stroke=\"red\" points=\"2333,-210 2253,-210 2253,-174 2333,-174 2333,-210\"/>\n<text text-anchor=\"middle\" x=\"2293\" y=\"-188.3\" font-family=\"Times,serif\" font-size=\"14.00\">val = 0.719</text>\n</g>\n<!-- node_47&#45;&gt;leaf_27 -->\n<g id=\"edge57\" class=\"edge\">\n<title>node_47&#45;&gt;leaf_27</title>\n<path fill=\"none\" stroke=\"black\" d=\"M2183.71,-261.81C2204.1,-248.97 2232.88,-230.85 2255.79,-216.43\"/>\n<polygon fill=\"black\" stroke=\"black\" points=\"2257.65,-219.39 2264.25,-211.1 2253.92,-213.47 2257.65,-219.39\"/>\n<text text-anchor=\"middle\" x=\"2244.5\" y=\"-231.8\" font-family=\"Times,serif\" font-size=\"14.00\">Yes</text>\n</g>\n<!-- node_49 -->\n<g id=\"node57\" class=\"node\">\n<title>node_49</title>\n<ellipse fill=\"none\" stroke=\"black\" cx=\"2047\" cy=\"-105\" rx=\"77.19\" ry=\"18\"/>\n<text text-anchor=\"middle\" x=\"2047\" y=\"-101.3\" font-family=\"Times,serif\" font-size=\"14.00\">36, value&gt;2.62177</text>\n</g>\n<!-- node_48&#45;&gt;node_49 -->\n<g id=\"edge54\" class=\"edge\">\n<title>node_48&#45;&gt;node_49</title>\n<path fill=\"none\" stroke=\"black\" d=\"M2136.33,-174.41C2119.6,-161.6 2096.24,-143.7 2077.6,-129.43\"/>\n<polygon fill=\"black\" stroke=\"black\" points=\"2079.88,-126.77 2069.81,-123.47 2075.62,-132.33 2079.88,-126.77\"/>\n<text text-anchor=\"middle\" x=\"2118.5\" y=\"-144.8\" font-family=\"Times,serif\" font-size=\"14.00\">No</text>\n</g>\n<!-- leaf_28 -->\n<g id=\"node60\" class=\"node\">\n<title>leaf_28</title>\n<polygon fill=\"none\" stroke=\"red\" points=\"2222,-123 2142,-123 2142,-87 2222,-87 2222,-123\"/>\n<text text-anchor=\"middle\" x=\"2182\" y=\"-101.3\" font-family=\"Times,serif\" font-size=\"14.00\">val = 0.425</text>\n</g>\n<!-- node_48&#45;&gt;leaf_28 -->\n<g id=\"edge55\" class=\"edge\">\n<title>node_48&#45;&gt;leaf_28</title>\n<path fill=\"none\" stroke=\"black\" d=\"M2162.86,-173.8C2166.06,-162.47 2170.32,-147.36 2174.01,-134.29\"/>\n<polygon fill=\"black\" stroke=\"black\" points=\"2177.31,-135.5 2176.66,-124.92 2170.57,-133.6 2177.31,-135.5\"/>\n<text text-anchor=\"middle\" x=\"2182.5\" y=\"-144.8\" font-family=\"Times,serif\" font-size=\"14.00\">Yes</text>\n</g>\n<!-- leaf_29 -->\n<g id=\"node58\" class=\"node\">\n<title>leaf_29</title>\n<polygon fill=\"none\" stroke=\"red\" points=\"2001,-36 1921,-36 1921,0 2001,0 2001,-36\"/>\n<text text-anchor=\"middle\" x=\"1961\" y=\"-14.3\" font-family=\"Times,serif\" font-size=\"14.00\">val = 0.058</text>\n</g>\n<!-- node_49&#45;&gt;leaf_29 -->\n<g id=\"edge52\" class=\"edge\">\n<title>node_49&#45;&gt;leaf_29</title>\n<path fill=\"none\" stroke=\"black\" d=\"M2030.01,-87.21C2017.57,-74.91 2000.48,-58.02 1986.42,-44.12\"/>\n<polygon fill=\"black\" stroke=\"black\" points=\"1989.2,-41.95 1979.62,-37.41 1984.27,-46.92 1989.2,-41.95\"/>\n<text text-anchor=\"middle\" x=\"2018.5\" y=\"-57.8\" font-family=\"Times,serif\" font-size=\"14.00\">No</text>\n</g>\n<!-- leaf_30 -->\n<g id=\"node59\" class=\"node\">\n<title>leaf_30</title>\n<polygon fill=\"none\" stroke=\"red\" points=\"2099,-36 2019,-36 2019,0 2099,0 2099,-36\"/>\n<text text-anchor=\"middle\" x=\"2059\" y=\"-14.3\" font-family=\"Times,serif\" font-size=\"14.00\">val = 0.436</text>\n</g>\n<!-- node_49&#45;&gt;leaf_30 -->\n<g id=\"edge53\" class=\"edge\">\n<title>node_49&#45;&gt;leaf_30</title>\n<path fill=\"none\" stroke=\"black\" d=\"M2049.43,-86.8C2051.01,-75.58 2053.12,-60.67 2054.95,-47.69\"/>\n<polygon fill=\"black\" stroke=\"black\" points=\"2058.39,-48.36 2056.32,-37.97 2051.46,-47.38 2058.39,-48.36\"/>\n<text text-anchor=\"middle\" x=\"2064.5\" y=\"-57.8\" font-family=\"Times,serif\" font-size=\"14.00\">Yes</text>\n</g>\n</g>\n</svg>\n",
            "text/plain": [
              "<graphviz.graphs.Digraph at 0x169421cd0>"
            ]
          },
          "execution_count": 30,
          "metadata": {},
          "output_type": "execute_result"
        }
      ],
      "source": [
        "cbc_delay.plot_tree(tree_idx=298)"
      ]
    },
    {
      "cell_type": "code",
      "execution_count": 31,
      "metadata": {},
      "outputs": [
        {
          "data": {
            "text/plain": [
              "Text(0.5, 1.0, 'Catboost Feature Importance: Delay')"
            ]
          },
          "execution_count": 31,
          "metadata": {},
          "output_type": "execute_result"
        },
        {
          "data": {
            "image/png": "[encoded data removed]",
            "text/plain": [
              "<Figure size 1200x600 with 1 Axes>"
            ]
          },
          "metadata": {},
          "output_type": "display_data"
        }
      ],
      "source": [
        "#get feature importance from Catboost model\n",
        "feature_importance = cbc_delay.feature_importances_\n",
        "sorted_idx = np.argsort(feature_importance)\n",
        "fig = plt.figure(figsize=(12, 6))\n",
        "plt.barh(range(len(sorted_idx)), feature_importance[sorted_idx], align='center')\n",
        "plt.yticks(range(len(sorted_idx)), np.array(X_cat_test.columns)[sorted_idx])\n",
        "plt.title('Catboost Feature Importance: Delay')"
      ]
    }
  ],
  "metadata": {
    "colab": {
      "collapsed_sections": [],
      "provenance": []
    },
    "kernelspec": {
      "display_name": "Python 3.9.13 ('QTW')",
      "language": "python",
      "name": "python3"
    },
    "language_info": {
      "codemirror_mode": {
        "name": "ipython",
        "version": 3
      },
      "file_extension": ".py",
      "mimetype": "text/x-python",
      "name": "python",
      "nbconvert_exporter": "python",
      "pygments_lexer": "ipython3",
      "version": "3.9.13"
    },
    "vscode": {
      "interpreter": {
        "hash": "64a98b05f8fc9eecf2bb5338f68e06ef5a87c8de5d8181b9d94599cc0446591d"
      }
    }
  },
  "nbformat": 4,
  "nbformat_minor": 0
}
