{
 "cells": [
  {
   "cell_type": "code",
   "execution_count": 23,
   "metadata": {},
   "outputs": [],
   "source": [
    "import numpy as np\n",
    "import pandas as pd\n",
    "import matplotlib.pyplot as plt\n",
    "import seaborn as sns\n",
    "\n",
    "import os\n",
    "import email\n",
    "\n",
    "\n",
    "def get_label_from_dirname(dirpath, positive_indicator=\"spam\"):\n",
    "    if positive_indicator in dirpath:\n",
    "        return 1\n",
    "    else:\n",
    "        return 0 \n",
    "    \n",
    "# https://docs.python.org/2.4/lib/standard-encodings.html\n",
    "def import_messages(root_dir=\"../data_sets/SpamAssassinMessages/\", encoding=\"cp1256\", positive_indicator=\"spam\"):\n",
    "    \n",
    "    messages = {\"message\":[], \"label\":[]}\n",
    "    \n",
    "    for dirpath, dirnames, filenames in os.walk(root_dir, topdown=False):\n",
    "        for name in filenames:\n",
    "            fullpath = os.path.join(dirpath, name)\n",
    "            messages['label'].append(get_label_from_dirname(dirpath=dirpath, positive_indicator=positive_indicator))\n",
    "            with open(fullpath,'r', encoding=encoding) as f:\n",
    "                try:\n",
    "                    msg = email.message_from_file(f)\n",
    "                    messages['message'].append(msg)\n",
    "                except UnicodeDecodeError as e:\n",
    "                    print(f\"Error occured with encoding type: {encoding}\\n{e}\")\n",
    "                    return\n",
    "                 \n",
    "    return messages\n",
    "\n",
    "def build_message_string(message):\n",
    "    msg_text = \"\"\n",
    "    for msg_part in message.walk():\n",
    "        if \"text\" in msg_part.get_content_type():\n",
    "            msg_text = msg_text + \" \" + msg_part.get_payload()\n",
    "    return msg_text\n",
    "\n",
    "def import_emails(root_dir=\"../data_sets/SpamAssassinMessages/\", encoding=\"cp1256\", positive_indicator=\"spam\"):\n",
    "    \n",
    "    messages = import_messages(root_dir=root_dir, \n",
    "                               encoding=encoding, \n",
    "                               positive_indicator=positive_indicator)\n",
    "    \n",
    "    messages['text'] = [build_message_string(message=msg) for msg in messages['message']]\n",
    "\n",
    "    msg_df = pd.DataFrame(messages)\n",
    "    first_cols = ['text', 'label']\n",
    "    msg_df = msg_df.loc[:, first_cols]\n",
    "\n",
    "    return msg_df"
   ]
  },
  {
   "cell_type": "code",
   "execution_count": 24,
   "metadata": {},
   "outputs": [],
   "source": [
    "msg_df = import_emails(root_dir=\"../data_sets/SpamAssassinMessages/\", encoding=\"cp437\", positive_indicator=\"spam\")"
   ]
  },
  {
   "cell_type": "code",
   "execution_count": 25,
   "metadata": {},
   "outputs": [
    {
     "data": {
      "text/html": [
       "<div>\n",
       "<style scoped>\n",
       "    .dataframe tbody tr th:only-of-type {\n",
       "        vertical-align: middle;\n",
       "    }\n",
       "\n",
       "    .dataframe tbody tr th {\n",
       "        vertical-align: top;\n",
       "    }\n",
       "\n",
       "    .dataframe thead th {\n",
       "        text-align: right;\n",
       "    }\n",
       "</style>\n",
       "<table border=\"1\" class=\"dataframe\">\n",
       "  <thead>\n",
       "    <tr style=\"text-align: right;\">\n",
       "      <th></th>\n",
       "      <th>text</th>\n",
       "      <th>label</th>\n",
       "    </tr>\n",
       "  </thead>\n",
       "  <tbody>\n",
       "    <tr>\n",
       "      <th>0</th>\n",
       "      <td>Dear Homeowner,\\n \\nInterest Rates are at the...</td>\n",
       "      <td>1</td>\n",
       "    </tr>\n",
       "    <tr>\n",
       "      <th>1</th>\n",
       "      <td>Friend,Now you can copy DVD's and Games\\nhttp...</td>\n",
       "      <td>1</td>\n",
       "    </tr>\n",
       "    <tr>\n",
       "      <th>2</th>\n",
       "      <td>Pocket the newest 8 year annuity!\\t Pocket t...</td>\n",
       "      <td>1</td>\n",
       "    </tr>\n",
       "    <tr>\n",
       "      <th>3</th>\n",
       "      <td>&lt;html&gt;&lt;head&gt;\\n&lt;title&gt;Congratulations! You Get...</td>\n",
       "      <td>1</td>\n",
       "    </tr>\n",
       "    <tr>\n",
       "      <th>4</th>\n",
       "      <td>ATTENTION: This is a MUST for ALL Computer Us...</td>\n",
       "      <td>1</td>\n",
       "    </tr>\n",
       "  </tbody>\n",
       "</table>\n",
       "</div>"
      ],
      "text/plain": [
       "                                                text  label\n",
       "0   Dear Homeowner,\\n \\nInterest Rates are at the...      1\n",
       "1   Friend,Now you can copy DVD's and Games\\nhttp...      1\n",
       "2    Pocket the newest 8 year annuity!\\t Pocket t...      1\n",
       "3   <html><head>\\n<title>Congratulations! You Get...      1\n",
       "4   ATTENTION: This is a MUST for ALL Computer Us...      1"
      ]
     },
     "execution_count": 25,
     "metadata": {},
     "output_type": "execute_result"
    }
   ],
   "source": [
    "msg_df.head()"
   ]
  },
  {
   "cell_type": "code",
   "execution_count": 26,
   "metadata": {},
   "outputs": [
    {
     "name": "stderr",
     "output_type": "stream",
     "text": [
      "/Users/allen/virtualenvs/QTW/lib/python3.9/site-packages/bs4/__init__.py:435: MarkupResemblesLocatorWarning: The input looks more like a filename than markup. You may want to open this file and pass the filehandle into Beautiful Soup.\n",
      "  warnings.warn(\n"
     ]
    }
   ],
   "source": [
    "from bs4 import BeautifulSoup\n",
    "\n",
    "def remove_tags(html):\n",
    "  \n",
    "    # parse html content\n",
    "    soup = BeautifulSoup(html, \"html.parser\")\n",
    "  \n",
    "    for data in soup(['style', 'script']):\n",
    "        # Remove tags\n",
    "        data.decompose()\n",
    "  \n",
    "    # return data by retrieving the tag content\n",
    "    return ' '.join(soup.stripped_strings)\n",
    "  \n",
    "  \n",
    "# Print the extracted data\n",
    "msg_df['text'] = msg_df['text'].apply(remove_tags)"
   ]
  },
  {
   "cell_type": "code",
   "execution_count": 27,
   "metadata": {},
   "outputs": [
    {
     "data": {
      "text/html": [
       "<div>\n",
       "<style scoped>\n",
       "    .dataframe tbody tr th:only-of-type {\n",
       "        vertical-align: middle;\n",
       "    }\n",
       "\n",
       "    .dataframe tbody tr th {\n",
       "        vertical-align: top;\n",
       "    }\n",
       "\n",
       "    .dataframe thead th {\n",
       "        text-align: right;\n",
       "    }\n",
       "</style>\n",
       "<table border=\"1\" class=\"dataframe\">\n",
       "  <thead>\n",
       "    <tr style=\"text-align: right;\">\n",
       "      <th></th>\n",
       "      <th>text</th>\n",
       "      <th>label</th>\n",
       "    </tr>\n",
       "  </thead>\n",
       "  <tbody>\n",
       "    <tr>\n",
       "      <th>0</th>\n",
       "      <td>Dear Homeowner,\\n \\nInterest Rates are at thei...</td>\n",
       "      <td>1</td>\n",
       "    </tr>\n",
       "    <tr>\n",
       "      <th>1</th>\n",
       "      <td>Friend,Now you can copy DVD's and Games\\nhttp:...</td>\n",
       "      <td>1</td>\n",
       "    </tr>\n",
       "    <tr>\n",
       "      <th>2</th>\n",
       "      <td>Pocket the newest 8 year annuity!\\t Pocket the...</td>\n",
       "      <td>1</td>\n",
       "    </tr>\n",
       "    <tr>\n",
       "      <th>3</th>\n",
       "      <td>Congratulations! You Get a Free Handheld Organ...</td>\n",
       "      <td>1</td>\n",
       "    </tr>\n",
       "    <tr>\n",
       "      <th>4</th>\n",
       "      <td>ATTENTION: This is a MUST for ALL Computer Use...</td>\n",
       "      <td>1</td>\n",
       "    </tr>\n",
       "  </tbody>\n",
       "</table>\n",
       "</div>"
      ],
      "text/plain": [
       "                                                text  label\n",
       "0  Dear Homeowner,\\n \\nInterest Rates are at thei...      1\n",
       "1  Friend,Now you can copy DVD's and Games\\nhttp:...      1\n",
       "2  Pocket the newest 8 year annuity!\\t Pocket the...      1\n",
       "3  Congratulations! You Get a Free Handheld Organ...      1\n",
       "4  ATTENTION: This is a MUST for ALL Computer Use...      1"
      ]
     },
     "execution_count": 27,
     "metadata": {},
     "output_type": "execute_result"
    }
   ],
   "source": [
    "msg_df.head()"
   ]
  },
  {
   "cell_type": "code",
   "execution_count": 28,
   "metadata": {},
   "outputs": [],
   "source": [
    "from string import punctuation\n",
    "import re\n",
    "\n",
    "def clean_email(email):\n",
    "\n",
    "    email = re.sub(\"\\d+\", \" \", email)\n",
    "    email = email.replace('\\n', ' ')\n",
    "    email = email.translate(str.maketrans(\"\", \"\", punctuation))\n",
    "    email = email.lower()\n",
    "    return email\n",
    "\n",
    "msg_df['text'] = msg_df['text'].apply(clean_email)"
   ]
  },
  {
   "cell_type": "code",
   "execution_count": 29,
   "metadata": {},
   "outputs": [],
   "source": [
    "from nltk.stem.snowball import SnowballStemmer\n",
    "# nltk.download('wordnet') # uncomment to download 'wordnet'\n",
    "from nltk.corpus import wordnet as wn\n",
    "\n",
    "def preproces_text(email):\n",
    "\n",
    "    words = \"\"\n",
    "    # Create the stemmer.\n",
    "    stemmer = SnowballStemmer(\"english\")\n",
    "    # Split text into words.\n",
    "    email = email.split()\n",
    "    for word in email:\n",
    "        # Optional: remove unknown words.\n",
    "        # if wn.synsets(word):\n",
    "        words = words + stemmer.stem(word) + \" \"\n",
    "    \n",
    "    return words\n",
    "\n",
    "msg_df['text'] = msg_df['text'].apply(preproces_text)"
   ]
  },
  {
   "cell_type": "code",
   "execution_count": 30,
   "metadata": {},
   "outputs": [
    {
     "data": {
      "text/html": [
       "<div>\n",
       "<style scoped>\n",
       "    .dataframe tbody tr th:only-of-type {\n",
       "        vertical-align: middle;\n",
       "    }\n",
       "\n",
       "    .dataframe tbody tr th {\n",
       "        vertical-align: top;\n",
       "    }\n",
       "\n",
       "    .dataframe thead th {\n",
       "        text-align: right;\n",
       "    }\n",
       "</style>\n",
       "<table border=\"1\" class=\"dataframe\">\n",
       "  <thead>\n",
       "    <tr style=\"text-align: right;\">\n",
       "      <th></th>\n",
       "      <th>text</th>\n",
       "      <th>label</th>\n",
       "    </tr>\n",
       "  </thead>\n",
       "  <tbody>\n",
       "    <tr>\n",
       "      <th>0</th>\n",
       "      <td>dear homeown interest rate are at their lowest...</td>\n",
       "      <td>1</td>\n",
       "    </tr>\n",
       "    <tr>\n",
       "      <th>1</th>\n",
       "      <td>friendnow you can copi dvds and game httpwwwte...</td>\n",
       "      <td>1</td>\n",
       "    </tr>\n",
       "    <tr>\n",
       "      <th>2</th>\n",
       "      <td>pocket the newest year annuiti pocket the newe...</td>\n",
       "      <td>1</td>\n",
       "    </tr>\n",
       "    <tr>\n",
       "      <th>3</th>\n",
       "      <td>congratul you get a free handheld organ dear f...</td>\n",
       "      <td>1</td>\n",
       "    </tr>\n",
       "    <tr>\n",
       "      <th>4</th>\n",
       "      <td>attent this is a must for all comput user news...</td>\n",
       "      <td>1</td>\n",
       "    </tr>\n",
       "  </tbody>\n",
       "</table>\n",
       "</div>"
      ],
      "text/plain": [
       "                                                text  label\n",
       "0  dear homeown interest rate are at their lowest...      1\n",
       "1  friendnow you can copi dvds and game httpwwwte...      1\n",
       "2  pocket the newest year annuiti pocket the newe...      1\n",
       "3  congratul you get a free handheld organ dear f...      1\n",
       "4  attent this is a must for all comput user news...      1"
      ]
     },
     "execution_count": 30,
     "metadata": {},
     "output_type": "execute_result"
    }
   ],
   "source": [
    "msg_df.head()"
   ]
  },
  {
   "cell_type": "code",
   "execution_count": 31,
   "metadata": {},
   "outputs": [],
   "source": [
    "from sklearn.model_selection import train_test_split \n",
    "from sklearn.feature_extraction.text import TfidfVectorizer\n",
    "\n",
    "X = msg_df['text']\n",
    "y = msg_df['label']"
   ]
  },
  {
   "cell_type": "code",
   "execution_count": 32,
   "metadata": {},
   "outputs": [],
   "source": [
    "vectorizer = TfidfVectorizer(sublinear_tf=True, max_df=0.5,\n",
    "                                       stop_words='english')\n",
    "\n",
    "X = vectorizer.fit_transform(X)\n"
   ]
  },
  {
   "cell_type": "code",
   "execution_count": 33,
   "metadata": {},
   "outputs": [
    {
     "name": "stdout",
     "output_type": "stream",
     "text": [
      "Number of different words: 84079\n",
      "Word example: beckley\n",
      "(7482, 84079) (7482,)\n",
      "(1871, 84079) (1871,)\n"
     ]
    }
   ],
   "source": [
    "\n",
    "# Create a train/test split using 20% test size.\n",
    "X_train, X_test, y_train, y_test = train_test_split(X,\n",
    "                                                    y,\n",
    "                                                    test_size=0.2,\n",
    "                                                    shuffle=True,\n",
    "                                                    random_state=0,\n",
    "                                                    stratify=y)\n",
    "\n",
    "feature_names = vectorizer.get_feature_names_out()\n",
    "print(\"Number of different words: {0}\".format(len(feature_names)))\n",
    "print(\"Word example: {0}\".format(feature_names[5369]))\n",
    "\n",
    "# Check the split printing the shape of each set.\n",
    "print(X_train.shape, y_train.shape)\n",
    "print(X_test.shape, y_test.shape)"
   ]
  },
  {
   "cell_type": "code",
   "execution_count": 34,
   "metadata": {},
   "outputs": [
    {
     "name": "stdout",
     "output_type": "stream",
     "text": [
      "              precision    recall  f1-score   support\n",
      "\n",
      "           0       0.88      1.00      0.94      1391\n",
      "           1       1.00      0.61      0.76       480\n",
      "\n",
      "    accuracy                           0.90      1871\n",
      "   macro avg       0.94      0.80      0.85      1871\n",
      "weighted avg       0.91      0.90      0.89      1871\n",
      "\n"
     ]
    },
    {
     "data": {
      "image/png": "[encoded data removed]",
      "text/plain": [
       "<Figure size 640x480 with 2 Axes>"
      ]
     },
     "metadata": {},
     "output_type": "display_data"
    }
   ],
   "source": [
    "from sklearn.naive_bayes import MultinomialNB\n",
    "from sklearn.metrics import completeness_score\n",
    "from sklearn.metrics import accuracy_score,ConfusionMatrixDisplay,classification_report\n",
    "# Create classifier.\n",
    "clf = MultinomialNB()\n",
    "\n",
    "# Fit the classifier on the training features and labels.\n",
    "clf.fit(X_train, y_train)\n",
    "\n",
    "# Make prediction - Store predictions in a list named pred.\n",
    "pred = clf.predict(X_test)\n",
    "\n",
    "#print(completeness_score(y_test,pred))\n",
    "# Calculate the accuracy on the test data.\n",
    "#print(\"Accuracy: {}\".format(clf.score(X_test, y_test)))\n",
    "\n",
    "accuracy_score(y_test,pred)\n",
    "print(classification_report(y_test,pred))\n",
    "ConfusionMatrixDisplay.from_predictions(y_test,pred,normalize='true',cmap='Blues');"
   ]
  }
 ],
 "metadata": {
  "kernelspec": {
   "display_name": "Python 3.9.13 ('QTW')",
   "language": "python",
   "name": "python3"
  },
  "language_info": {
   "codemirror_mode": {
    "name": "ipython",
    "version": 3
   },
   "file_extension": ".py",
   "mimetype": "text/x-python",
   "name": "python",
   "nbconvert_exporter": "python",
   "pygments_lexer": "ipython3",
   "version": "3.9.13"
  },
  "orig_nbformat": 4,
  "vscode": {
   "interpreter": {
    "hash": "64a98b05f8fc9eecf2bb5338f68e06ef5a87c8de5d8181b9d94599cc0446591d"
   }
  }
 },
 "nbformat": 4,
 "nbformat_minor": 2
}
