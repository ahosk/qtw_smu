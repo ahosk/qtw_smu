{
 "cells": [
  {
   "cell_type": "code",
   "execution_count": 1,
   "metadata": {},
   "outputs": [],
   "source": [
    "from scipy.io import arff\n",
    "import pandas as pd\n",
    "import os\n",
    "from sklearn import tree\n",
    "from sklearn.metrics import accuracy_score, mean_absolute_error,mean_squared_error\n",
    "from sklearn.model_selection import train_test_split\n",
    "from sklearn.impute import SimpleImputer\n",
    "from sklearn.ensemble import RandomForestClassifier\n",
    "import seaborn as sns\n",
    "import matplotlib.pyplot as plt\n",
    "import pydot\n",
    "import numpy as np"
   ]
  },
  {
   "cell_type": "code",
   "execution_count": 2,
   "metadata": {},
   "outputs": [],
   "source": [
    "results = pd.DataFrame()\n",
    "results_columns = pd.DataFrame()\n",
    "\n",
    "for dirpath, dirnames, filenames in os.walk(\"../data_sets/data/\", topdown=False):\n",
    "    for name in filenames:\n",
    "        fullpath = os.path.join(dirpath, name)\n",
    "        data = pd.DataFrame(arff.loadarff(fullpath)[0])\n",
    "        data['class'] = data['class'].str.decode('utf-8')\n",
    "        data['year'] = float(name[0])\n",
    "        results = pd.concat([results,data],axis=0).reset_index(drop=True)\n",
    "        \n",
    "                "
   ]
  },
  {
   "cell_type": "code",
   "execution_count": 3,
   "metadata": {},
   "outputs": [],
   "source": [
    "#sort by year\n",
    "results = results.sort_values(by=['year'])"
   ]
  },
  {
   "cell_type": "code",
   "execution_count": 4,
   "metadata": {},
   "outputs": [
    {
     "data": {
      "text/html": [
       "<div>\n",
       "<style scoped>\n",
       "    .dataframe tbody tr th:only-of-type {\n",
       "        vertical-align: middle;\n",
       "    }\n",
       "\n",
       "    .dataframe tbody tr th {\n",
       "        vertical-align: top;\n",
       "    }\n",
       "\n",
       "    .dataframe thead th {\n",
       "        text-align: right;\n",
       "    }\n",
       "</style>\n",
       "<table border=\"1\" class=\"dataframe\">\n",
       "  <thead>\n",
       "    <tr style=\"text-align: right;\">\n",
       "      <th></th>\n",
       "      <th>Attr1</th>\n",
       "      <th>Attr2</th>\n",
       "      <th>Attr3</th>\n",
       "      <th>Attr4</th>\n",
       "      <th>Attr5</th>\n",
       "      <th>Attr6</th>\n",
       "      <th>Attr7</th>\n",
       "      <th>Attr8</th>\n",
       "      <th>Attr9</th>\n",
       "      <th>Attr10</th>\n",
       "      <th>...</th>\n",
       "      <th>Attr57</th>\n",
       "      <th>Attr58</th>\n",
       "      <th>Attr59</th>\n",
       "      <th>Attr60</th>\n",
       "      <th>Attr61</th>\n",
       "      <th>Attr62</th>\n",
       "      <th>Attr63</th>\n",
       "      <th>Attr64</th>\n",
       "      <th>class</th>\n",
       "      <th>year</th>\n",
       "    </tr>\n",
       "  </thead>\n",
       "  <tbody>\n",
       "    <tr>\n",
       "      <th>43404</th>\n",
       "      <td>0.014946</td>\n",
       "      <td>0.946480</td>\n",
       "      <td>0.03211</td>\n",
       "      <td>1.03630</td>\n",
       "      <td>-20.5810</td>\n",
       "      <td>0.000000</td>\n",
       "      <td>0.015260</td>\n",
       "      <td>0.056357</td>\n",
       "      <td>2.96940</td>\n",
       "      <td>0.053341</td>\n",
       "      <td>...</td>\n",
       "      <td>0.28021</td>\n",
       "      <td>0.97443</td>\n",
       "      <td>1.179200</td>\n",
       "      <td>15.0360</td>\n",
       "      <td>4.1741</td>\n",
       "      <td>108.640</td>\n",
       "      <td>3.3599</td>\n",
       "      <td>35.11800</td>\n",
       "      <td>1</td>\n",
       "      <td>1.0</td>\n",
       "    </tr>\n",
       "    <tr>\n",
       "      <th>38710</th>\n",
       "      <td>-0.083327</td>\n",
       "      <td>0.942880</td>\n",
       "      <td>-0.17625</td>\n",
       "      <td>0.69310</td>\n",
       "      <td>-92.9120</td>\n",
       "      <td>-0.095666</td>\n",
       "      <td>-0.078056</td>\n",
       "      <td>-0.005651</td>\n",
       "      <td>0.87141</td>\n",
       "      <td>-0.005328</td>\n",
       "      <td>...</td>\n",
       "      <td>15.64000</td>\n",
       "      <td>1.14760</td>\n",
       "      <td>-69.182000</td>\n",
       "      <td>18.4010</td>\n",
       "      <td>2.1509</td>\n",
       "      <td>278.570</td>\n",
       "      <td>1.3103</td>\n",
       "      <td>1.25010</td>\n",
       "      <td>0</td>\n",
       "      <td>1.0</td>\n",
       "    </tr>\n",
       "    <tr>\n",
       "      <th>38711</th>\n",
       "      <td>0.161240</td>\n",
       "      <td>0.657540</td>\n",
       "      <td>0.15056</td>\n",
       "      <td>1.45130</td>\n",
       "      <td>-9.5086</td>\n",
       "      <td>0.498510</td>\n",
       "      <td>0.206490</td>\n",
       "      <td>0.498930</td>\n",
       "      <td>1.10840</td>\n",
       "      <td>0.328070</td>\n",
       "      <td>...</td>\n",
       "      <td>0.49147</td>\n",
       "      <td>0.90223</td>\n",
       "      <td>0.987410</td>\n",
       "      <td>10.7320</td>\n",
       "      <td>10.0460</td>\n",
       "      <td>56.648</td>\n",
       "      <td>6.4433</td>\n",
       "      <td>4.16700</td>\n",
       "      <td>0</td>\n",
       "      <td>1.0</td>\n",
       "    </tr>\n",
       "    <tr>\n",
       "      <th>38712</th>\n",
       "      <td>0.031386</td>\n",
       "      <td>0.038397</td>\n",
       "      <td>0.19497</td>\n",
       "      <td>6.12450</td>\n",
       "      <td>358.7300</td>\n",
       "      <td>0.010658</td>\n",
       "      <td>0.031643</td>\n",
       "      <td>25.044000</td>\n",
       "      <td>1.18860</td>\n",
       "      <td>0.961600</td>\n",
       "      <td>...</td>\n",
       "      <td>0.03264</td>\n",
       "      <td>0.84130</td>\n",
       "      <td>0.000365</td>\n",
       "      <td>5.3563</td>\n",
       "      <td>2.8605</td>\n",
       "      <td>66.169</td>\n",
       "      <td>5.5162</td>\n",
       "      <td>0.27362</td>\n",
       "      <td>0</td>\n",
       "      <td>1.0</td>\n",
       "    </tr>\n",
       "    <tr>\n",
       "      <th>38713</th>\n",
       "      <td>-0.092135</td>\n",
       "      <td>1.132700</td>\n",
       "      <td>-0.19627</td>\n",
       "      <td>0.82672</td>\n",
       "      <td>-99.4520</td>\n",
       "      <td>-0.140320</td>\n",
       "      <td>-0.092135</td>\n",
       "      <td>-0.117120</td>\n",
       "      <td>0.95725</td>\n",
       "      <td>-0.132660</td>\n",
       "      <td>...</td>\n",
       "      <td>0.69452</td>\n",
       "      <td>1.04470</td>\n",
       "      <td>0.000000</td>\n",
       "      <td>5.9660</td>\n",
       "      <td>2.9435</td>\n",
       "      <td>252.190</td>\n",
       "      <td>1.4473</td>\n",
       "      <td>25.77400</td>\n",
       "      <td>0</td>\n",
       "      <td>1.0</td>\n",
       "    </tr>\n",
       "  </tbody>\n",
       "</table>\n",
       "<p>5 rows × 66 columns</p>\n",
       "</div>"
      ],
      "text/plain": [
       "          Attr1     Attr2    Attr3    Attr4     Attr5     Attr6     Attr7  \\\n",
       "43404  0.014946  0.946480  0.03211  1.03630  -20.5810  0.000000  0.015260   \n",
       "38710 -0.083327  0.942880 -0.17625  0.69310  -92.9120 -0.095666 -0.078056   \n",
       "38711  0.161240  0.657540  0.15056  1.45130   -9.5086  0.498510  0.206490   \n",
       "38712  0.031386  0.038397  0.19497  6.12450  358.7300  0.010658  0.031643   \n",
       "38713 -0.092135  1.132700 -0.19627  0.82672  -99.4520 -0.140320 -0.092135   \n",
       "\n",
       "           Attr8    Attr9    Attr10  ...    Attr57   Attr58     Attr59  \\\n",
       "43404   0.056357  2.96940  0.053341  ...   0.28021  0.97443   1.179200   \n",
       "38710  -0.005651  0.87141 -0.005328  ...  15.64000  1.14760 -69.182000   \n",
       "38711   0.498930  1.10840  0.328070  ...   0.49147  0.90223   0.987410   \n",
       "38712  25.044000  1.18860  0.961600  ...   0.03264  0.84130   0.000365   \n",
       "38713  -0.117120  0.95725 -0.132660  ...   0.69452  1.04470   0.000000   \n",
       "\n",
       "        Attr60   Attr61   Attr62  Attr63    Attr64  class  year  \n",
       "43404  15.0360   4.1741  108.640  3.3599  35.11800      1   1.0  \n",
       "38710  18.4010   2.1509  278.570  1.3103   1.25010      0   1.0  \n",
       "38711  10.7320  10.0460   56.648  6.4433   4.16700      0   1.0  \n",
       "38712   5.3563   2.8605   66.169  5.5162   0.27362      0   1.0  \n",
       "38713   5.9660   2.9435  252.190  1.4473  25.77400      0   1.0  \n",
       "\n",
       "[5 rows x 66 columns]"
      ]
     },
     "execution_count": 4,
     "metadata": {},
     "output_type": "execute_result"
    }
   ],
   "source": [
    "results.head()"
   ]
  },
  {
   "cell_type": "code",
   "execution_count": null,
   "metadata": {},
   "outputs": [],
   "source": [
    "results.info(verbose=True)"
   ]
  },
  {
   "cell_type": "code",
   "execution_count": null,
   "metadata": {},
   "outputs": [],
   "source": [
    "missing_cols = results.columns[results.isnull().any()]"
   ]
  },
  {
   "cell_type": "code",
   "execution_count": null,
   "metadata": {},
   "outputs": [],
   "source": [
    "results.describe()"
   ]
  },
  {
   "cell_type": "code",
   "execution_count": null,
   "metadata": {},
   "outputs": [],
   "source": [
    "\n",
    "plt.figure(figsize=(10,10));\n",
    "sns.displot(\n",
    "    data=results[missing_cols].isna().melt(value_name=\"missing\"),\n",
    "    y=\"variable\",\n",
    "    hue=\"missing\",\n",
    "    multiple=\"fill\"\n",
    ");"
   ]
  },
  {
   "cell_type": "markdown",
   "metadata": {},
   "source": [
    "***\n",
    "# Impute missing data"
   ]
  },
  {
   "cell_type": "code",
   "execution_count": null,
   "metadata": {},
   "outputs": [],
   "source": [
    "mean_imp = SimpleImputer(missing_values = pd.NA,strategy='mean')\n",
    "median_imp = SimpleImputer(missing_values = pd.NA,strategy = 'median')\n",
    "freq_imp = SimpleImputer(missing_values = pd.NA,strategy = 'most_frequent')"
   ]
  },
  {
   "cell_type": "code",
   "execution_count": null,
   "metadata": {},
   "outputs": [],
   "source": [
    "df_impute = results\n",
    "\n",
    "\n",
    "df_mean = pd.DataFrame(mean_imp.fit_transform(df_impute),columns = df_impute.columns)\n",
    "df_median = pd.DataFrame(median_imp.fit_transform(df_impute),columns = df_impute.columns)\n",
    "df_freq = pd.DataFrame(freq_imp.fit_transform(df_impute),columns = df_impute.columns)"
   ]
  },
  {
   "cell_type": "markdown",
   "metadata": {},
   "source": [
    "# Begin Modeling"
   ]
  },
  {
   "cell_type": "code",
   "execution_count": null,
   "metadata": {},
   "outputs": [],
   "source": [
    "\n",
    "X = df_mean.loc[:, df_mean.columns != 'class']\n",
    "y = df_mean['class']\n",
    "# Split the data into training and testing sets\n",
    "X_train, X_test, y_train, y_test = train_test_split(X,\n",
    "                                                    y,\n",
    "                                                    test_size=0.2,\n",
    "                                                    shuffle=False,\n",
    "                                                    random_state=0)"
   ]
  },
  {
   "cell_type": "code",
   "execution_count": null,
   "metadata": {},
   "outputs": [],
   "source": [
    "model = RandomForestClassifier()\n",
    "\n",
    "# Train the model on training data\n",
    "model.fit(X_train, y_train)\n",
    "y_pred = model.predict(X_test)"
   ]
  },
  {
   "cell_type": "code",
   "execution_count": null,
   "metadata": {},
   "outputs": [],
   "source": [
    "model_results=pd.DataFrame({'Actual':y_test, 'Predicted':y_pred})\n",
    "model_results"
   ]
  },
  {
   "cell_type": "code",
   "execution_count": null,
   "metadata": {},
   "outputs": [],
   "source": [
    "print('Mean Absolute Error:', mean_absolute_error(y_test, y_pred))\n",
    "print('Mean Squared Error:', mean_squared_error(y_test, y_pred))\n",
    "print('Root Mean Squared Error:', np.sqrt(mean_squared_error(y_test, y_pred)))"
   ]
  },
  {
   "cell_type": "code",
   "execution_count": null,
   "metadata": {},
   "outputs": [],
   "source": [
    "\n",
    "accuracy = accuracy_score(y_test,y_pred)\n",
    "print('Accuracy:', round(accuracy, 2), '%.')"
   ]
  },
  {
   "cell_type": "code",
   "execution_count": null,
   "metadata": {},
   "outputs": [],
   "source": [
    "\n",
    "plt.figure(figsize=(5, 7))\n",
    "\n",
    "\n",
    "ax = sns.distplot(y, hist=False, color=\"r\", label=\"Actual Value\")\n",
    "sns.distplot(y_pred, hist=False, color=\"b\", label=\"Fitted Values\" , ax=ax)\n",
    "\n",
    "\n",
    "plt.title('Actual vs Fitted Values')\n",
    "\n",
    "\n",
    "plt.show()\n",
    "plt.close()"
   ]
  },
  {
   "cell_type": "code",
   "execution_count": null,
   "metadata": {},
   "outputs": [],
   "source": [
    "\n",
    "# Pull out one tree from the forest\n",
    "Tree =  model.estimators_[5]\n",
    "# Export the image to a dot file\n",
    "\n",
    "plt.figure(figsize=(25,15))\n",
    "tree.plot_tree(Tree,filled=True, \n",
    "              rounded=True, \n",
    "              fontsize=14);"
   ]
  }
 ],
 "metadata": {
  "kernelspec": {
   "display_name": "Python 3.9.13 ('QTW')",
   "language": "python",
   "name": "python3"
  },
  "language_info": {
   "codemirror_mode": {
    "name": "ipython",
    "version": 3
   },
   "file_extension": ".py",
   "mimetype": "text/x-python",
   "name": "python",
   "nbconvert_exporter": "python",
   "pygments_lexer": "ipython3",
   "version": "3.9.13"
  },
  "orig_nbformat": 4,
  "vscode": {
   "interpreter": {
    "hash": "64a98b05f8fc9eecf2bb5338f68e06ef5a87c8de5d8181b9d94599cc0446591d"
   }
  }
 },
 "nbformat": 4,
 "nbformat_minor": 2
}
