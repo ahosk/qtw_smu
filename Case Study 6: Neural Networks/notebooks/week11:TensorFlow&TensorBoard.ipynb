{
 "cells": [
  {
   "cell_type": "code",
   "execution_count": 7,
   "metadata": {},
   "outputs": [],
   "source": [
    "import tensorflow as tf\n",
    "from sklearn.datasets import fetch_california_housing\n",
    "from sklearn.preprocessing import StandardScaler\n",
    "import pandas as pd\n",
    "import numpy as np\n"
   ]
  },
  {
   "cell_type": "code",
   "execution_count": 22,
   "metadata": {},
   "outputs": [],
   "source": [
    "data = fetch_california_housing()"
   ]
  },
  {
   "cell_type": "code",
   "execution_count": 23,
   "metadata": {},
   "outputs": [
    {
     "data": {
      "text/plain": [
       "{'data': array([[   8.3252    ,   41.        ,    6.98412698, ...,    2.55555556,\n",
       "           37.88      , -122.23      ],\n",
       "        [   8.3014    ,   21.        ,    6.23813708, ...,    2.10984183,\n",
       "           37.86      , -122.22      ],\n",
       "        [   7.2574    ,   52.        ,    8.28813559, ...,    2.80225989,\n",
       "           37.85      , -122.24      ],\n",
       "        ...,\n",
       "        [   1.7       ,   17.        ,    5.20554273, ...,    2.3256351 ,\n",
       "           39.43      , -121.22      ],\n",
       "        [   1.8672    ,   18.        ,    5.32951289, ...,    2.12320917,\n",
       "           39.43      , -121.32      ],\n",
       "        [   2.3886    ,   16.        ,    5.25471698, ...,    2.61698113,\n",
       "           39.37      , -121.24      ]]),\n",
       " 'target': array([4.526, 3.585, 3.521, ..., 0.923, 0.847, 0.894]),\n",
       " 'frame': None,\n",
       " 'target_names': ['MedHouseVal'],\n",
       " 'feature_names': ['MedInc',\n",
       "  'HouseAge',\n",
       "  'AveRooms',\n",
       "  'AveBedrms',\n",
       "  'Population',\n",
       "  'AveOccup',\n",
       "  'Latitude',\n",
       "  'Longitude'],\n",
       " 'DESCR': '.. _california_housing_dataset:\\n\\nCalifornia Housing dataset\\n--------------------------\\n\\n**Data Set Characteristics:**\\n\\n    :Number of Instances: 20640\\n\\n    :Number of Attributes: 8 numeric, predictive attributes and the target\\n\\n    :Attribute Information:\\n        - MedInc        median income in block group\\n        - HouseAge      median house age in block group\\n        - AveRooms      average number of rooms per household\\n        - AveBedrms     average number of bedrooms per household\\n        - Population    block group population\\n        - AveOccup      average number of household members\\n        - Latitude      block group latitude\\n        - Longitude     block group longitude\\n\\n    :Missing Attribute Values: None\\n\\nThis dataset was obtained from the StatLib repository.\\nhttps://www.dcc.fc.up.pt/~ltorgo/Regression/cal_housing.html\\n\\nThe target variable is the median house value for California districts,\\nexpressed in hundreds of thousands of dollars ($100,000).\\n\\nThis dataset was derived from the 1990 U.S. census, using one row per census\\nblock group. A block group is the smallest geographical unit for which the U.S.\\nCensus Bureau publishes sample data (a block group typically has a population\\nof 600 to 3,000 people).\\n\\nAn household is a group of people residing within a home. Since the average\\nnumber of rooms and bedrooms in this dataset are provided per household, these\\ncolumns may take surpinsingly large values for block groups with few households\\nand many empty houses, such as vacation resorts.\\n\\nIt can be downloaded/loaded using the\\n:func:`sklearn.datasets.fetch_california_housing` function.\\n\\n.. topic:: References\\n\\n    - Pace, R. Kelley and Ronald Barry, Sparse Spatial Autoregressions,\\n      Statistics and Probability Letters, 33 (1997) 291-297\\n'}"
      ]
     },
     "execution_count": 23,
     "metadata": {},
     "output_type": "execute_result"
    }
   ],
   "source": [
    "data"
   ]
  },
  {
   "cell_type": "code",
   "execution_count": 4,
   "metadata": {},
   "outputs": [],
   "source": [
    "X = data['data']\n",
    "y = data['target']"
   ]
  },
  {
   "cell_type": "code",
   "execution_count": 7,
   "metadata": {},
   "outputs": [],
   "source": [
    "scaler = StandardScaler()\n",
    "scaled_data = scaler.fit_transform(X)\n"
   ]
  },
  {
   "cell_type": "code",
   "execution_count": 10,
   "metadata": {},
   "outputs": [
    {
     "data": {
      "text/plain": [
       "(20640, 8)"
      ]
     },
     "execution_count": 10,
     "metadata": {},
     "output_type": "execute_result"
    }
   ],
   "source": [
    "scaled_data.shape"
   ]
  },
  {
   "cell_type": "code",
   "execution_count": 8,
   "metadata": {},
   "outputs": [
    {
     "name": "stdout",
     "output_type": "stream",
     "text": [
      "Metal device set to: Apple M1 Max\n",
      "\n",
      "systemMemory: 64.00 GB\n",
      "maxCacheSize: 24.00 GB\n",
      "\n"
     ]
    },
    {
     "name": "stderr",
     "output_type": "stream",
     "text": [
      "2022-11-05 13:42:59.038233: I tensorflow/core/common_runtime/pluggable_device/pluggable_device_factory.cc:306] Could not identify NUMA node of platform GPU ID 0, defaulting to 0. Your kernel may not have been built with NUMA support.\n",
      "2022-11-05 13:42:59.038509: I tensorflow/core/common_runtime/pluggable_device/pluggable_device_factory.cc:272] Created TensorFlow device (/job:localhost/replica:0/task:0/device:GPU:0 with 0 MB memory) -> physical PluggableDevice (device: 0, name: METAL, pci bus id: <undefined>)\n"
     ]
    }
   ],
   "source": [
    "my_model = tf.keras.Sequential()"
   ]
  },
  {
   "cell_type": "code",
   "execution_count": 11,
   "metadata": {},
   "outputs": [],
   "source": [
    "my_model.add(tf.keras.Input(shape=(8,)))\n",
    "my_model.add(tf.keras.layers.Dense(100,activation='sigmoid'))\n",
    "my_model.add(tf.keras.layers.Dense(50,activation='sigmoid'))\n",
    "my_model.add(tf.keras.layers.Dense(1,activation='linear'))\n"
   ]
  },
  {
   "cell_type": "code",
   "execution_count": 12,
   "metadata": {},
   "outputs": [],
   "source": [
    "my_model.compile(optimizer='sgd',\n",
    "                loss='mean_squared_error',\n",
    "                metrics=['mean_squared_error','mean_absolute_error'])"
   ]
  },
  {
   "cell_type": "code",
   "execution_count": 13,
   "metadata": {},
   "outputs": [
    {
     "name": "stdout",
     "output_type": "stream",
     "text": [
      "Epoch 1/10\n"
     ]
    },
    {
     "name": "stderr",
     "output_type": "stream",
     "text": [
      "2022-11-05 13:51:54.410954: W tensorflow/core/platform/profile_utils/cpu_utils.cc:128] Failed to get CPU frequency: 0 Hz\n",
      "2022-11-05 13:51:54.578939: I tensorflow/core/grappler/optimizers/custom_graph_optimizer_registry.cc:114] Plugin optimizer for device_type GPU is enabled.\n"
     ]
    },
    {
     "name": "stdout",
     "output_type": "stream",
     "text": [
      "1215/1215 [==============================] - 9s 7ms/step - loss: 0.8816 - mean_squared_error: 0.8816 - mean_absolute_error: 0.7205\n",
      "Epoch 2/10\n",
      "1215/1215 [==============================] - 7s 6ms/step - loss: 0.5834 - mean_squared_error: 0.5834 - mean_absolute_error: 0.5654\n",
      "Epoch 3/10\n",
      "1215/1215 [==============================] - 7s 6ms/step - loss: 0.5332 - mean_squared_error: 0.5332 - mean_absolute_error: 0.5369\n",
      "Epoch 4/10\n",
      "1215/1215 [==============================] - 8s 6ms/step - loss: 0.5076 - mean_squared_error: 0.5076 - mean_absolute_error: 0.5223\n",
      "Epoch 5/10\n",
      "1215/1215 [==============================] - 8s 6ms/step - loss: 0.4960 - mean_squared_error: 0.4960 - mean_absolute_error: 0.5150\n",
      "Epoch 6/10\n",
      "1215/1215 [==============================] - 8s 6ms/step - loss: 0.4896 - mean_squared_error: 0.4896 - mean_absolute_error: 0.5111\n",
      "Epoch 7/10\n",
      "1215/1215 [==============================] - 8s 6ms/step - loss: 0.4836 - mean_squared_error: 0.4836 - mean_absolute_error: 0.5071\n",
      "Epoch 8/10\n",
      "1215/1215 [==============================] - 7s 6ms/step - loss: 0.4779 - mean_squared_error: 0.4779 - mean_absolute_error: 0.5038\n",
      "Epoch 9/10\n",
      "1215/1215 [==============================] - 8s 6ms/step - loss: 0.4712 - mean_squared_error: 0.4712 - mean_absolute_error: 0.4995\n",
      "Epoch 10/10\n",
      "1215/1215 [==============================] - 8s 7ms/step - loss: 0.4673 - mean_squared_error: 0.4673 - mean_absolute_error: 0.4965\n"
     ]
    },
    {
     "data": {
      "text/plain": [
       "<keras.callbacks.History at 0x28306e400>"
      ]
     },
     "execution_count": 13,
     "metadata": {},
     "output_type": "execute_result"
    }
   ],
   "source": [
    "my_model.fit(scaled_data,\n",
    "            y,\n",
    "            epochs=10,\n",
    "            batch_size=17)"
   ]
  },
  {
   "cell_type": "code",
   "execution_count": 14,
   "metadata": {},
   "outputs": [
    {
     "name": "stdout",
     "output_type": "stream",
     "text": [
      " 81/645 [==>...........................] - ETA: 1s"
     ]
    },
    {
     "name": "stderr",
     "output_type": "stream",
     "text": [
      "2022-11-05 13:53:11.676884: I tensorflow/core/grappler/optimizers/custom_graph_optimizer_registry.cc:114] Plugin optimizer for device_type GPU is enabled.\n"
     ]
    },
    {
     "name": "stdout",
     "output_type": "stream",
     "text": [
      "645/645 [==============================] - 1s 2ms/step\n"
     ]
    },
    {
     "data": {
      "text/plain": [
       "array([[4.2677073 ],\n",
       "       [4.202143  ],\n",
       "       [3.7341073 ],\n",
       "       ...,\n",
       "       [0.3504712 ],\n",
       "       [0.46262014],\n",
       "       [0.5906888 ]], dtype=float32)"
      ]
     },
     "execution_count": 14,
     "metadata": {},
     "output_type": "execute_result"
    }
   ],
   "source": [
    "my_model.predict(scaled_data)"
   ]
  },
  {
   "cell_type": "markdown",
   "metadata": {},
   "source": [
    "***\n",
    "# Model API"
   ]
  },
  {
   "cell_type": "code",
   "execution_count": 15,
   "metadata": {},
   "outputs": [],
   "source": [
    "from sklearn.datasets import load_iris"
   ]
  },
  {
   "cell_type": "code",
   "execution_count": 16,
   "metadata": {},
   "outputs": [],
   "source": [
    "data = load_iris()\n",
    "X = data['data']\n",
    "y = data['target']"
   ]
  },
  {
   "cell_type": "code",
   "execution_count": 17,
   "metadata": {},
   "outputs": [
    {
     "data": {
      "text/plain": [
       "(150, 4)"
      ]
     },
     "execution_count": 17,
     "metadata": {},
     "output_type": "execute_result"
    }
   ],
   "source": [
    "X.shape"
   ]
  },
  {
   "cell_type": "code",
   "execution_count": 19,
   "metadata": {},
   "outputs": [],
   "source": [
    "my_new_model = tf.keras.Model()\n",
    "zero_layer = tf.keras.Input(shape=(4,))\n",
    "layer1 = tf.keras.layers.Dense(10,activation='relu')(zero_layer)\n",
    "layer2 = tf.keras.layers.Dense(5,activation='relu')(layer1)\n",
    "layer3 = tf.keras.layers.Dense(3,activation='softmax')(layer2)\n",
    "my_new_model = tf.keras.Model(inputs=zero_layer,outputs=layer3)\n",
    "\n",
    "my_new_model.compile(optimizer='adam',\n",
    "                    loss=tf.keras.losses.SparseCategoricalCrossentropy(),\n",
    "                    metrics=['accuracy'])"
   ]
  },
  {
   "cell_type": "code",
   "execution_count": 20,
   "metadata": {},
   "outputs": [
    {
     "name": "stdout",
     "output_type": "stream",
     "text": [
      "Epoch 1/100\n"
     ]
    },
    {
     "name": "stderr",
     "output_type": "stream",
     "text": [
      "2022-11-05 14:05:57.533557: I tensorflow/core/grappler/optimizers/custom_graph_optimizer_registry.cc:114] Plugin optimizer for device_type GPU is enabled.\n"
     ]
    },
    {
     "name": "stdout",
     "output_type": "stream",
     "text": [
      "30/30 [==============================] - 1s 6ms/step - loss: 1.0781 - accuracy: 0.3533\n",
      "Epoch 2/100\n",
      "30/30 [==============================] - 0s 5ms/step - loss: 1.0292 - accuracy: 0.5200\n",
      "Epoch 3/100\n",
      "30/30 [==============================] - 0s 5ms/step - loss: 1.0094 - accuracy: 0.5333\n",
      "Epoch 4/100\n",
      "30/30 [==============================] - 0s 5ms/step - loss: 0.9880 - accuracy: 0.5133\n",
      "Epoch 5/100\n",
      "30/30 [==============================] - 0s 6ms/step - loss: 0.9649 - accuracy: 0.5667\n",
      "Epoch 6/100\n",
      "30/30 [==============================] - 0s 7ms/step - loss: 0.9390 - accuracy: 0.6000\n",
      "Epoch 7/100\n",
      "30/30 [==============================] - 0s 5ms/step - loss: 0.9135 - accuracy: 0.6200\n",
      "Epoch 8/100\n",
      "30/30 [==============================] - 0s 6ms/step - loss: 0.8880 - accuracy: 0.6133\n",
      "Epoch 9/100\n",
      "30/30 [==============================] - 0s 7ms/step - loss: 0.8612 - accuracy: 0.6400\n",
      "Epoch 10/100\n",
      "30/30 [==============================] - 0s 6ms/step - loss: 0.8359 - accuracy: 0.6400\n",
      "Epoch 11/100\n",
      "30/30 [==============================] - 0s 6ms/step - loss: 0.8123 - accuracy: 0.6467\n",
      "Epoch 12/100\n",
      "30/30 [==============================] - 0s 6ms/step - loss: 0.7931 - accuracy: 0.6533\n",
      "Epoch 13/100\n",
      "30/30 [==============================] - 0s 6ms/step - loss: 0.7740 - accuracy: 0.6533\n",
      "Epoch 14/100\n",
      "30/30 [==============================] - 0s 7ms/step - loss: 0.7563 - accuracy: 0.6667\n",
      "Epoch 15/100\n",
      "30/30 [==============================] - 0s 6ms/step - loss: 0.7405 - accuracy: 0.6733\n",
      "Epoch 16/100\n",
      "30/30 [==============================] - 0s 6ms/step - loss: 0.7255 - accuracy: 0.6800\n",
      "Epoch 17/100\n",
      "30/30 [==============================] - 0s 5ms/step - loss: 0.7119 - accuracy: 0.6867\n",
      "Epoch 18/100\n",
      "30/30 [==============================] - 0s 5ms/step - loss: 0.6995 - accuracy: 0.6800\n",
      "Epoch 19/100\n",
      "30/30 [==============================] - 0s 5ms/step - loss: 0.6876 - accuracy: 0.7200\n",
      "Epoch 20/100\n",
      "30/30 [==============================] - 0s 5ms/step - loss: 0.6752 - accuracy: 0.7333\n",
      "Epoch 21/100\n",
      "30/30 [==============================] - 0s 5ms/step - loss: 0.6653 - accuracy: 0.7333\n",
      "Epoch 22/100\n",
      "30/30 [==============================] - 0s 5ms/step - loss: 0.6537 - accuracy: 0.7533\n",
      "Epoch 23/100\n",
      "30/30 [==============================] - 0s 5ms/step - loss: 0.6439 - accuracy: 0.7667\n",
      "Epoch 24/100\n",
      "30/30 [==============================] - 0s 5ms/step - loss: 0.6348 - accuracy: 0.7933\n",
      "Epoch 25/100\n",
      "30/30 [==============================] - 0s 5ms/step - loss: 0.6253 - accuracy: 0.8133\n",
      "Epoch 26/100\n",
      "30/30 [==============================] - 0s 5ms/step - loss: 0.6154 - accuracy: 0.7867\n",
      "Epoch 27/100\n",
      "30/30 [==============================] - 0s 5ms/step - loss: 0.6059 - accuracy: 0.8333\n",
      "Epoch 28/100\n",
      "30/30 [==============================] - 0s 5ms/step - loss: 0.5969 - accuracy: 0.8133\n",
      "Epoch 29/100\n",
      "30/30 [==============================] - 0s 5ms/step - loss: 0.5886 - accuracy: 0.8267\n",
      "Epoch 30/100\n",
      "30/30 [==============================] - 0s 5ms/step - loss: 0.5802 - accuracy: 0.8467\n",
      "Epoch 31/100\n",
      "30/30 [==============================] - 0s 5ms/step - loss: 0.5714 - accuracy: 0.8467\n",
      "Epoch 32/100\n",
      "30/30 [==============================] - 0s 5ms/step - loss: 0.5641 - accuracy: 0.8867\n",
      "Epoch 33/100\n",
      "30/30 [==============================] - 0s 6ms/step - loss: 0.5577 - accuracy: 0.8667\n",
      "Epoch 34/100\n",
      "30/30 [==============================] - 0s 6ms/step - loss: 0.5463 - accuracy: 0.8867\n",
      "Epoch 35/100\n",
      "30/30 [==============================] - 0s 6ms/step - loss: 0.5384 - accuracy: 0.8800\n",
      "Epoch 36/100\n",
      "30/30 [==============================] - 0s 6ms/step - loss: 0.5354 - accuracy: 0.8867\n",
      "Epoch 37/100\n",
      "30/30 [==============================] - 0s 6ms/step - loss: 0.5236 - accuracy: 0.9467\n",
      "Epoch 38/100\n",
      "30/30 [==============================] - 0s 6ms/step - loss: 0.5167 - accuracy: 0.9267\n",
      "Epoch 39/100\n",
      "30/30 [==============================] - 0s 6ms/step - loss: 0.5100 - accuracy: 0.9400\n",
      "Epoch 40/100\n",
      "30/30 [==============================] - 0s 6ms/step - loss: 0.5017 - accuracy: 0.9400\n",
      "Epoch 41/100\n",
      "30/30 [==============================] - 0s 5ms/step - loss: 0.4963 - accuracy: 0.9467\n",
      "Epoch 42/100\n",
      "30/30 [==============================] - 0s 5ms/step - loss: 0.4885 - accuracy: 0.9600\n",
      "Epoch 43/100\n",
      "30/30 [==============================] - 0s 5ms/step - loss: 0.4824 - accuracy: 0.9333\n",
      "Epoch 44/100\n",
      "30/30 [==============================] - 0s 5ms/step - loss: 0.4761 - accuracy: 0.9467\n",
      "Epoch 45/100\n",
      "30/30 [==============================] - 0s 5ms/step - loss: 0.4734 - accuracy: 0.9533\n",
      "Epoch 46/100\n",
      "30/30 [==============================] - 0s 5ms/step - loss: 0.4623 - accuracy: 0.9467\n",
      "Epoch 47/100\n",
      "30/30 [==============================] - 0s 5ms/step - loss: 0.4571 - accuracy: 0.9600\n",
      "Epoch 48/100\n",
      "30/30 [==============================] - 0s 5ms/step - loss: 0.4511 - accuracy: 0.9600\n",
      "Epoch 49/100\n",
      "30/30 [==============================] - 0s 5ms/step - loss: 0.4459 - accuracy: 0.9667\n",
      "Epoch 50/100\n",
      "30/30 [==============================] - 0s 6ms/step - loss: 0.4383 - accuracy: 0.9667\n",
      "Epoch 51/100\n",
      "30/30 [==============================] - 0s 5ms/step - loss: 0.4328 - accuracy: 0.9667\n",
      "Epoch 52/100\n",
      "30/30 [==============================] - 0s 5ms/step - loss: 0.4179 - accuracy: 0.9667\n",
      "Epoch 53/100\n",
      "30/30 [==============================] - 0s 5ms/step - loss: 0.3281 - accuracy: 0.9533\n",
      "Epoch 54/100\n",
      "30/30 [==============================] - 0s 5ms/step - loss: 0.3093 - accuracy: 0.9467\n",
      "Epoch 55/100\n",
      "30/30 [==============================] - 0s 5ms/step - loss: 0.2711 - accuracy: 0.9467\n",
      "Epoch 56/100\n",
      "30/30 [==============================] - 0s 5ms/step - loss: 0.2236 - accuracy: 0.9667\n",
      "Epoch 57/100\n",
      "30/30 [==============================] - 0s 5ms/step - loss: 0.1836 - accuracy: 0.9733\n",
      "Epoch 58/100\n",
      "30/30 [==============================] - 0s 5ms/step - loss: 0.1557 - accuracy: 0.9733\n",
      "Epoch 59/100\n",
      "30/30 [==============================] - 0s 5ms/step - loss: 0.1406 - accuracy: 0.9667\n",
      "Epoch 60/100\n",
      "30/30 [==============================] - 0s 5ms/step - loss: 0.1383 - accuracy: 0.9600\n",
      "Epoch 61/100\n",
      "30/30 [==============================] - 0s 5ms/step - loss: 0.1336 - accuracy: 0.9600\n",
      "Epoch 62/100\n",
      "30/30 [==============================] - 0s 5ms/step - loss: 0.1209 - accuracy: 0.9733\n",
      "Epoch 63/100\n",
      "30/30 [==============================] - 0s 5ms/step - loss: 0.1161 - accuracy: 0.9733\n",
      "Epoch 64/100\n",
      "30/30 [==============================] - 0s 5ms/step - loss: 0.1134 - accuracy: 0.9733\n",
      "Epoch 65/100\n",
      "30/30 [==============================] - 0s 5ms/step - loss: 0.1138 - accuracy: 0.9667\n",
      "Epoch 66/100\n",
      "30/30 [==============================] - 0s 5ms/step - loss: 0.1233 - accuracy: 0.9733\n",
      "Epoch 67/100\n",
      "30/30 [==============================] - 0s 5ms/step - loss: 0.1061 - accuracy: 0.9733\n",
      "Epoch 68/100\n",
      "30/30 [==============================] - 0s 5ms/step - loss: 0.1117 - accuracy: 0.9600\n",
      "Epoch 69/100\n",
      "30/30 [==============================] - 0s 5ms/step - loss: 0.1027 - accuracy: 0.9733\n",
      "Epoch 70/100\n",
      "30/30 [==============================] - 0s 5ms/step - loss: 0.1030 - accuracy: 0.9667\n",
      "Epoch 71/100\n",
      "30/30 [==============================] - 0s 5ms/step - loss: 0.1009 - accuracy: 0.9600\n",
      "Epoch 72/100\n",
      "30/30 [==============================] - 0s 5ms/step - loss: 0.0995 - accuracy: 0.9667\n",
      "Epoch 73/100\n",
      "30/30 [==============================] - 0s 5ms/step - loss: 0.0962 - accuracy: 0.9733\n",
      "Epoch 74/100\n",
      "30/30 [==============================] - 0s 6ms/step - loss: 0.0971 - accuracy: 0.9733\n",
      "Epoch 75/100\n",
      "30/30 [==============================] - 0s 5ms/step - loss: 0.0972 - accuracy: 0.9733\n",
      "Epoch 76/100\n",
      "30/30 [==============================] - 0s 5ms/step - loss: 0.0932 - accuracy: 0.9667\n",
      "Epoch 77/100\n",
      "30/30 [==============================] - 0s 5ms/step - loss: 0.0925 - accuracy: 0.9733\n",
      "Epoch 78/100\n",
      "30/30 [==============================] - 0s 5ms/step - loss: 0.0936 - accuracy: 0.9733\n",
      "Epoch 79/100\n",
      "30/30 [==============================] - 0s 5ms/step - loss: 0.0944 - accuracy: 0.9733\n",
      "Epoch 80/100\n",
      "30/30 [==============================] - 0s 5ms/step - loss: 0.0895 - accuracy: 0.9800\n",
      "Epoch 81/100\n",
      "30/30 [==============================] - 0s 5ms/step - loss: 0.0896 - accuracy: 0.9667\n",
      "Epoch 82/100\n",
      "30/30 [==============================] - 0s 5ms/step - loss: 0.0942 - accuracy: 0.9733\n",
      "Epoch 83/100\n",
      "30/30 [==============================] - 0s 5ms/step - loss: 0.0881 - accuracy: 0.9667\n",
      "Epoch 84/100\n",
      "30/30 [==============================] - 0s 5ms/step - loss: 0.0886 - accuracy: 0.9800\n",
      "Epoch 85/100\n",
      "30/30 [==============================] - 0s 5ms/step - loss: 0.0930 - accuracy: 0.9733\n",
      "Epoch 86/100\n",
      "30/30 [==============================] - 0s 5ms/step - loss: 0.0916 - accuracy: 0.9733\n",
      "Epoch 87/100\n",
      "30/30 [==============================] - 0s 5ms/step - loss: 0.0839 - accuracy: 0.9733\n",
      "Epoch 88/100\n",
      "30/30 [==============================] - 0s 5ms/step - loss: 0.0871 - accuracy: 0.9667\n",
      "Epoch 89/100\n",
      "30/30 [==============================] - 0s 5ms/step - loss: 0.0828 - accuracy: 0.9667\n",
      "Epoch 90/100\n",
      "30/30 [==============================] - 0s 5ms/step - loss: 0.0837 - accuracy: 0.9667\n",
      "Epoch 91/100\n",
      "30/30 [==============================] - 0s 5ms/step - loss: 0.0814 - accuracy: 0.9667\n",
      "Epoch 92/100\n",
      "30/30 [==============================] - 0s 5ms/step - loss: 0.0803 - accuracy: 0.9667\n",
      "Epoch 93/100\n",
      "30/30 [==============================] - 0s 6ms/step - loss: 0.0831 - accuracy: 0.9667\n",
      "Epoch 94/100\n",
      "30/30 [==============================] - 0s 6ms/step - loss: 0.0810 - accuracy: 0.9667\n",
      "Epoch 95/100\n",
      "30/30 [==============================] - 0s 6ms/step - loss: 0.0802 - accuracy: 0.9800\n",
      "Epoch 96/100\n",
      "30/30 [==============================] - 0s 5ms/step - loss: 0.0804 - accuracy: 0.9667\n",
      "Epoch 97/100\n",
      "30/30 [==============================] - 0s 5ms/step - loss: 0.0804 - accuracy: 0.9667\n",
      "Epoch 98/100\n",
      "30/30 [==============================] - 0s 5ms/step - loss: 0.0804 - accuracy: 0.9733\n",
      "Epoch 99/100\n",
      "30/30 [==============================] - 0s 6ms/step - loss: 0.0809 - accuracy: 0.9733\n",
      "Epoch 100/100\n",
      "30/30 [==============================] - 0s 6ms/step - loss: 0.0805 - accuracy: 0.9733\n"
     ]
    },
    {
     "data": {
      "text/plain": [
       "<keras.callbacks.History at 0x282cc8220>"
      ]
     },
     "execution_count": 20,
     "metadata": {},
     "output_type": "execute_result"
    }
   ],
   "source": [
    "my_new_model.fit(X,\n",
    "                y,\n",
    "                batch_size=5,\n",
    "                epochs=100)"
   ]
  },
  {
   "cell_type": "markdown",
   "metadata": {},
   "source": [
    "***\n",
    "# Tensorboard"
   ]
  },
  {
   "cell_type": "code",
   "execution_count": 12,
   "metadata": {},
   "outputs": [],
   "source": [
    "data = fetch_california_housing()\n",
    "X = data['data']\n",
    "y = data['target']\n",
    "scaler = StandardScaler()\n",
    "scaled_data = scaler.fit_transform(X)"
   ]
  },
  {
   "cell_type": "code",
   "execution_count": 13,
   "metadata": {},
   "outputs": [],
   "source": [
    "from sklearn.model_selection import train_test_split\n",
    "x_train,x_test,y_train,y_test = train_test_split(scaled_data,y)"
   ]
  },
  {
   "cell_type": "code",
   "execution_count": 14,
   "metadata": {},
   "outputs": [
    {
     "data": {
      "text/plain": [
       "(15480, 8)"
      ]
     },
     "execution_count": 14,
     "metadata": {},
     "output_type": "execute_result"
    }
   ],
   "source": [
    "x_train.shape"
   ]
  },
  {
   "cell_type": "code",
   "execution_count": 15,
   "metadata": {},
   "outputs": [
    {
     "data": {
      "text/plain": [
       "(5160, 8)"
      ]
     },
     "execution_count": 15,
     "metadata": {},
     "output_type": "execute_result"
    }
   ],
   "source": [
    "x_test.shape"
   ]
  },
  {
   "cell_type": "code",
   "execution_count": 39,
   "metadata": {},
   "outputs": [],
   "source": [
    "from tensorflow.keras.callbacks import TensorBoard\n",
    "from time import time\n",
    "\n",
    "import tensorboard\n"
   ]
  },
  {
   "cell_type": "code",
   "execution_count": 45,
   "metadata": {},
   "outputs": [],
   "source": [
    "tb_model = tf.keras.Sequential()\n",
    "tb_model.add(tf.keras.layers.Dense(100,activation='sigmoid'))\n",
    "tb_model.add(tf.keras.layers.Dense(100,activation='sigmoid'))\n",
    "tb_model.add(tf.keras.layers.Dense(1,activation='linear'))\n",
    "tb_model.compile(optimizer='adam',\n",
    "                loss='mean_squared_error',\n",
    "                metrics=['mean_squared_error','mean_absolute_error','accuracy'])"
   ]
  },
  {
   "cell_type": "code",
   "execution_count": 46,
   "metadata": {},
   "outputs": [
    {
     "name": "stderr",
     "output_type": "stream",
     "text": [
      "UsageError: Line magic function `%tensorboard` not found.\n"
     ]
    }
   ],
   "source": [
    "tb = TensorBoard(log_dir=f'logs/{time()}')\n",
    "%tensorboard --logdir logs"
   ]
  },
  {
   "cell_type": "code",
   "execution_count": 42,
   "metadata": {},
   "outputs": [
    {
     "name": "stdout",
     "output_type": "stream",
     "text": [
      "Epoch 1/10\n"
     ]
    },
    {
     "name": "stderr",
     "output_type": "stream",
     "text": [
      "2022-11-05 14:46:58.838349: I tensorflow/core/grappler/optimizers/custom_graph_optimizer_registry.cc:114] Plugin optimizer for device_type GPU is enabled.\n"
     ]
    },
    {
     "name": "stdout",
     "output_type": "stream",
     "text": [
      "773/774 [============================>.] - ETA: 0s - loss: 0.7005 - mean_squared_error: 0.7005 - mean_absolute_error: 0.6203"
     ]
    },
    {
     "name": "stderr",
     "output_type": "stream",
     "text": [
      "2022-11-05 14:47:04.661174: I tensorflow/core/grappler/optimizers/custom_graph_optimizer_registry.cc:114] Plugin optimizer for device_type GPU is enabled.\n"
     ]
    },
    {
     "name": "stdout",
     "output_type": "stream",
     "text": [
      "774/774 [==============================] - 7s 8ms/step - loss: 0.7002 - mean_squared_error: 0.7002 - mean_absolute_error: 0.6202 - val_loss: 0.5051 - val_mean_squared_error: 0.5051 - val_mean_absolute_error: 0.5195\n",
      "Epoch 2/10\n",
      "774/774 [==============================] - 6s 8ms/step - loss: 0.4695 - mean_squared_error: 0.4695 - mean_absolute_error: 0.5000 - val_loss: 0.4776 - val_mean_squared_error: 0.4776 - val_mean_absolute_error: 0.4921\n",
      "Epoch 3/10\n",
      "774/774 [==============================] - 6s 8ms/step - loss: 0.4482 - mean_squared_error: 0.4482 - mean_absolute_error: 0.4853 - val_loss: 0.4577 - val_mean_squared_error: 0.4577 - val_mean_absolute_error: 0.4838\n",
      "Epoch 4/10\n",
      "774/774 [==============================] - 5s 7ms/step - loss: 0.4250 - mean_squared_error: 0.4250 - mean_absolute_error: 0.4693 - val_loss: 0.4398 - val_mean_squared_error: 0.4398 - val_mean_absolute_error: 0.4736\n",
      "Epoch 5/10\n",
      "774/774 [==============================] - 6s 8ms/step - loss: 0.4088 - mean_squared_error: 0.4088 - mean_absolute_error: 0.4598 - val_loss: 0.4322 - val_mean_squared_error: 0.4322 - val_mean_absolute_error: 0.4757\n",
      "Epoch 6/10\n",
      "774/774 [==============================] - 6s 8ms/step - loss: 0.3944 - mean_squared_error: 0.3944 - mean_absolute_error: 0.4508 - val_loss: 0.4139 - val_mean_squared_error: 0.4139 - val_mean_absolute_error: 0.4613\n",
      "Epoch 7/10\n",
      "774/774 [==============================] - 6s 8ms/step - loss: 0.3873 - mean_squared_error: 0.3873 - mean_absolute_error: 0.4475 - val_loss: 0.4109 - val_mean_squared_error: 0.4109 - val_mean_absolute_error: 0.4473\n",
      "Epoch 8/10\n",
      "774/774 [==============================] - 6s 7ms/step - loss: 0.3810 - mean_squared_error: 0.3810 - mean_absolute_error: 0.4439 - val_loss: 0.4141 - val_mean_squared_error: 0.4141 - val_mean_absolute_error: 0.4667\n",
      "Epoch 9/10\n",
      "774/774 [==============================] - 6s 7ms/step - loss: 0.3784 - mean_squared_error: 0.3784 - mean_absolute_error: 0.4420 - val_loss: 0.4151 - val_mean_squared_error: 0.4151 - val_mean_absolute_error: 0.4724\n",
      "Epoch 10/10\n",
      "774/774 [==============================] - 6s 7ms/step - loss: 0.3725 - mean_squared_error: 0.3725 - mean_absolute_error: 0.4372 - val_loss: 0.3987 - val_mean_squared_error: 0.3987 - val_mean_absolute_error: 0.4477\n"
     ]
    },
    {
     "data": {
      "text/plain": [
       "<keras.callbacks.History at 0x286717880>"
      ]
     },
     "execution_count": 42,
     "metadata": {},
     "output_type": "execute_result"
    }
   ],
   "source": [
    "tb_model.fit(x_train,y_train,epochs=10,validation_data=(x_test,y_test),batch_size=20,callbacks=[tb])"
   ]
  },
  {
   "cell_type": "code",
   "execution_count": 32,
   "metadata": {},
   "outputs": [],
   "source": [
    "weights = tb_model.get_weights()"
   ]
  },
  {
   "cell_type": "code",
   "execution_count": 34,
   "metadata": {},
   "outputs": [
    {
     "data": {
      "text/plain": [
       "(8, 100)"
      ]
     },
     "execution_count": 34,
     "metadata": {},
     "output_type": "execute_result"
    }
   ],
   "source": [
    "weights[0].shape"
   ]
  },
  {
   "cell_type": "markdown",
   "metadata": {},
   "source": [
    "***\n",
    "# Validation and Early Stopping\n"
   ]
  },
  {
   "cell_type": "code",
   "execution_count": 47,
   "metadata": {},
   "outputs": [],
   "source": [
    "from tensorflow.keras.callbacks import EarlyStopping\n",
    "safety = EarlyStopping(monitor = 'val_loss',patience=1)"
   ]
  },
  {
   "cell_type": "code",
   "execution_count": 48,
   "metadata": {},
   "outputs": [
    {
     "name": "stdout",
     "output_type": "stream",
     "text": [
      "Epoch 1/1000\n",
      "  1/774 [..............................] - ETA: 4:59 - loss: 5.9340 - mean_squared_error: 5.9340 - mean_absolute_error: 2.0504 - accuracy: 0.0000e+00"
     ]
    },
    {
     "name": "stderr",
     "output_type": "stream",
     "text": [
      "2022-11-05 14:49:07.257598: I tensorflow/core/grappler/optimizers/custom_graph_optimizer_registry.cc:114] Plugin optimizer for device_type GPU is enabled.\n"
     ]
    },
    {
     "name": "stdout",
     "output_type": "stream",
     "text": [
      "765/774 [============================>.] - ETA: 0s - loss: 0.7508 - mean_squared_error: 0.7508 - mean_absolute_error: 0.6450 - accuracy: 0.0031"
     ]
    },
    {
     "name": "stderr",
     "output_type": "stream",
     "text": [
      "2022-11-05 14:49:12.506697: I tensorflow/core/grappler/optimizers/custom_graph_optimizer_registry.cc:114] Plugin optimizer for device_type GPU is enabled.\n"
     ]
    },
    {
     "name": "stdout",
     "output_type": "stream",
     "text": [
      "774/774 [==============================] - 6s 8ms/step - loss: 0.7481 - mean_squared_error: 0.7481 - mean_absolute_error: 0.6437 - accuracy: 0.0031 - val_loss: 0.5268 - val_mean_squared_error: 0.5268 - val_mean_absolute_error: 0.5512 - val_accuracy: 0.0017\n",
      "Epoch 2/1000\n",
      "774/774 [==============================] - 6s 8ms/step - loss: 0.4734 - mean_squared_error: 0.4734 - mean_absolute_error: 0.5022 - accuracy: 0.0032 - val_loss: 0.4790 - val_mean_squared_error: 0.4790 - val_mean_absolute_error: 0.5028 - val_accuracy: 0.0017\n",
      "Epoch 3/1000\n",
      "774/774 [==============================] - 5s 7ms/step - loss: 0.4527 - mean_squared_error: 0.4527 - mean_absolute_error: 0.4898 - accuracy: 0.0033 - val_loss: 0.4842 - val_mean_squared_error: 0.4842 - val_mean_absolute_error: 0.4820 - val_accuracy: 0.0016\n"
     ]
    },
    {
     "data": {
      "text/plain": [
       "<keras.callbacks.History at 0x28d1fd460>"
      ]
     },
     "execution_count": 48,
     "metadata": {},
     "output_type": "execute_result"
    }
   ],
   "source": [
    "tb_model.fit(x_train,y_train,epochs=1000,validation_data=(x_test,y_test),batch_size=20,callbacks=[tb,safety])"
   ]
  }
 ],
 "metadata": {
  "kernelspec": {
   "display_name": "Python 3.9.13 ('QTW')",
   "language": "python",
   "name": "python3"
  },
  "language_info": {
   "codemirror_mode": {
    "name": "ipython",
    "version": 3
   },
   "file_extension": ".py",
   "mimetype": "text/x-python",
   "name": "python",
   "nbconvert_exporter": "python",
   "pygments_lexer": "ipython3",
   "version": "3.9.13"
  },
  "orig_nbformat": 4,
  "vscode": {
   "interpreter": {
    "hash": "64a98b05f8fc9eecf2bb5338f68e06ef5a87c8de5d8181b9d94599cc0446591d"
   }
  }
 },
 "nbformat": 4,
 "nbformat_minor": 2
}
